{
 "metadata": {
  "name": ""
 },
 "nbformat": 3,
 "nbformat_minor": 0,
 "worksheets": [
  {
   "cells": [
    {
     "cell_type": "heading",
     "level": 1,
     "metadata": {},
     "source": [
      "Diferenciaci\u00f3n Autom\u00e1tica"
     ]
    },
    {
     "cell_type": "markdown",
     "metadata": {},
     "source": [
      "Dada una funci\u00f3n $f^n$, $f:\\mathbb{R}\\rightarrow \\mathbb{R}$ en Python: \u00bfC\u00f3mo calcular? "
     ]
    },
    {
     "cell_type": "markdown",
     "metadata": {},
     "source": [
      "(i) Diferencias finitas:\n",
      "\n",
      "$f(a)\\approx \\frac{f(a+h)-f(a)}{h}+O(h)$ o,\n",
      "\n",
      "$\\frac{f(a+h)-f(a-h)}{2h}+O(h^2)$\n",
      "\n",
      "pero lleva a errrores por cancelaci\u00f3n (restar 2 n\u00fameros cercanos; 100.123-100.1)"
     ]
    },
    {
     "cell_type": "markdown",
     "metadata": {},
     "source": [
      "(ii) Simb\u00f3licamente (e.g.) "
     ]
    },
    {
     "cell_type": "markdown",
     "metadata": {},
     "source": [
      "(iii) Aproximar $f^n$ con polinomios (teorema de aproximaci\u00f3n de Weierstrass) "
     ]
    },
    {
     "cell_type": "heading",
     "level": 2,
     "metadata": {},
     "source": [
      "Diferecniaci\u00f3n autom\u00e1tica"
     ]
    },
    {
     "cell_type": "markdown",
     "metadata": {},
     "source": [
      "Vamos a construir una aritm\u00e9tica de derivadas:\n",
      "\n",
      "vamos a trabajar con pares ordenados $\\underline{u}:=(u,u')$\n",
      "\n",
      "donde $u:=u(a)$ y $u':=u'(a)$; $u:\\mathbb{R}\\rightarrow \\mathbb{R}$; $a\\in \\mathbb{R}$ donde queremos calcular la derivada.\n",
      "\n",
      "Suma de $u+v$\n",
      "\n",
      "$(u+v)(a)=u(a)+v(a)$\n",
      "\n",
      "$(u+v)'(a)=u'(a)+v'(a)$\n",
      "\n",
      "entonces, definimos\n",
      "\n",
      "$(u,u')+(v,v')=(u+v,u'+v')$\n",
      "\n",
      "$(u,u')-(v,v')=(u-v,u'-v')$\n",
      "\n",
      "$(u,u')\\cdot (v,v')=(u\\cdot v,uv'+u'v)$\n",
      "\n",
      "$(u,u')\\div(v,v'):=(u/v,\\frac{u'-\\frac{u}{v}\\cdot v'}{v})$ (Para calcular s\u00f3lo una divisi\u00f3n ($\\frac{u}{v}$))"
     ]
    },
    {
     "cell_type": "markdown",
     "metadata": {},
     "source": [
      "LA funci\u00f3n $f(x)=3$ $\\forall x$ evaludo en $x=a$ me da $(a,0)$\n",
      "\n",
      "Para comenzar el c\u00e1lculo:\n",
      "\n",
      "Variable independiente $x$: $f(x)=x$ para el valor en $a$ me da $(a,1)$\n",
      "\n",
      "Ejemplo:\n",
      "\n",
      "$f(x)=2x$\n",
      "\n",
      "$\\underline{f}(\\underline{x})=\\underline{2}\\cdot \\underline{x}$ (misma f\u00f3rmula pero ahora por pares)\n",
      "\n",
      "$\\underline{f}(\\underline{x})=\\underline{2}\\cdot \\underline{x}=(2,0)\\cdot (x,1)=(2\\cdot x,2\\cdot 1+0\\cdot x)=(2x,2)$\n",
      "\n",
      "(Ahora la derivada se calcul\u00f3 de manera autom\u00e1tica usando un algor\u00edtmo!)"
     ]
    },
    {
     "cell_type": "markdown",
     "metadata": {},
     "source": [
      "Ejemplo:\n",
      "\n",
      "$f(x)=x\\cdot x$\n",
      "\n",
      "$\\underline{f}(\\underline{x})=\\underline{x}\\cdot \\underline{x}=(x,1)\\cdot (x,1)=(x^2,x\\cdot 1+1\\cdot x)=(x^2,2x)=(f(x),f'(x))$\n",
      "\n"
     ]
    },
    {
     "cell_type": "markdown",
     "metadata": {},
     "source": [
      "Qu\u00e9 tal $(g \\circ u)'(a)=g'(u(a))\\cdot u'(a)$. Por lo tanto, el par para $g\\circ u$ es $(g(u),g'(u)\\cdot u')$ "
     ]
    },
    {
     "cell_type": "heading",
     "level": 3,
     "metadata": {},
     "source": [
      "Funciones elementales"
     ]
    },
    {
     "cell_type": "markdown",
     "metadata": {},
     "source": [
      "$\\exp{(\\underline{u})}:=\\left( \\exp{u},~\\exp{u}\\cdot u' \\right)$\n",
      "\n",
      "$\\sin{\\underline{x}}:=(\\sin{u},~\\cos{u}\\cdot u')$\n",
      "\n",
      "$\\log{\\underline{x}}:=(\\log{u},~\\frac{1}{u}\\cdot u')$\n",
      "\n",
      "$\\underline{u}^{\\alpha}:=(u^{\\alpha},~\\alpha u^{\\alpha-1}\\cdot u')$ $\\alpha \\ne 0$\n"
     ]
    },
    {
     "cell_type": "markdown",
     "metadata": {},
     "source": [
      "Ejemplo:\n",
      "\n",
      "Sea $f(x)=(1+x+\\exp{x})\\cdot \\sin{x}$\n",
      "\n",
      "Queremos $f'(0)$\n",
      "\n",
      "$\\underline{f}(\\underline{x})\\left [ \\underline{1}+\\underline{x}+\\exp{\\underline{x}}  \\right ]\\cdot \\sin{(\\underline{x})}$\n",
      "\n",
      "$\\underline{x}=(0,1)$ (evaluar en 0; variable independiente derivada=1)\n",
      "\n",
      "Sustituci\u00f3n: $\\underline{f}((0,1))= \\left [ (1,0)+(0,1)+(\\exp{0},\\exp{0}\\cdot 1)\\right ]\\cdot (\\sin{0},\\cos{0}\\cdot 1)$\n",
      "\n",
      "$=(2,2)\\cdot (0,1)=(2\\cdot 0, 2\\cdot 1+2\\cdot 0)=(0,2)$"
     ]
    },
    {
     "cell_type": "heading",
     "level": 2,
     "metadata": {},
     "source": [
      "Implementaci\u00f3n en Python"
     ]
    },
    {
     "cell_type": "markdown",
     "metadata": {},
     "source": [
      "Ahora, lo que necesitamos es definir de manera eficiente una clase que incorpore esta aritm\u00e9tica para la diferenciaci\u00f3n autom\u00e1tica. "
     ]
    },
    {
     "cell_type": "code",
     "collapsed": false,
     "input": [
      "import numpy as np\n",
      "class Difauto(object):\n",
      "    \n",
      "    def __init__(self, argumentof, argumentod):\n",
      "        self.argumentof = argumentof\n",
      "        self.argumentod = argumentod\n",
      "        \n",
      "    def __add__(self, otro):\n",
      "        return Difauto(self.argumentof + otro.argumentof, self.argumentod + otro.argumentod)\n",
      "    \n",
      "    def __sub__(self, otro):\n",
      "        return Difauto(self.argumentof - otro.argumentof, self.argumentod - otro.argumentod)\n",
      "    \n",
      "    \n",
      "    \n",
      "    def __mul__(self, otro):\n",
      "        return Difauto(self.argumentof * otro.argumentof, self.argumentof * otro.argumentod + otro.argumentof * self.argumentod)\n",
      "    \n",
      "    def __div__(self, otro):\n",
      "        if otro.argumentof == 0:\n",
      "            raise ZeroDivisionError\n",
      "        #cociente = self.argumentof / otro.argumentof\n",
      "        return Difauto(self.argumentof / otro.argumentof, (self.argumentod-(self.argumentof / otro.argumentof)*otro.argumentod) / otro.argumentof)\n",
      "    \n",
      "    \n",
      "    #A partir de aqu\u00ed vamos a definir los \"m\u00e9todos\" o funciones \"elementales\" sobre esta clase de objetos\n",
      "    \n",
      "    def exp(self):\n",
      "        u = np.exp(self.argumentof)\n",
      "        v = np.exp(self.argumentof)*self.argumentod\n",
      "\n",
      "        return Difauto(u, v)\n",
      "    \n",
      "    def power(self, x):\n",
      "        u = (self.argumentof)**x\n",
      "        v = x*(self.argumentof)**(x-1)*self.argumentod\n",
      "        \n",
      "        return Difauto(u, v)\n",
      "    \n",
      "    def log(self):\n",
      "        u = np.log(self.argumentof)\n",
      "        v = (1./self.argumentof)*self.argumentod\n",
      "        return Difauto(u, v)\n",
      "        \n",
      "    def sen(self):\n",
      "        return Difauto(np.sin(self.argumentof), np.cos(self.argumentof)*self.argumentod)\n",
      "    \n",
      "    def cos(self):\n",
      "        return Difauto(np.cos(self.argumentof), -np.sin(self.argumentof)*self.argumentod)\n",
      "    \n",
      "    def tan(self):\n",
      "        return Difauto(np.tan(self.argumentof), np.cos(self.argumentof)**(-2) * self.argumentod)\n",
      "    \n",
      "    #def comp(self, otro):\n",
      "        #return Difauto(self(otro(otro.argumentof)), )\n",
      "    \n",
      "    def __repr__(self):\n",
      "        #return \"Intervalo(%s, %s)\" % (self.min, self.max)\n",
      "        return \"({}, {})\".format(self.argumentof, self.argumentod)\n",
      "    \n",
      "    def __str__(self):\n",
      "        return \"Difauto[{}, {}]\".format(self.argumentof, self.argumentod)\n",
      "        \n",
      "        \n",
      "        "
     ],
     "language": "python",
     "metadata": {},
     "outputs": [],
     "prompt_number": 318
    },
    {
     "cell_type": "code",
     "collapsed": false,
     "input": [
      "a = Difauto(1.,3.)\n",
      "a.exp()"
     ],
     "language": "python",
     "metadata": {},
     "outputs": [
      {
       "metadata": {},
       "output_type": "pyout",
       "prompt_number": 319,
       "text": [
        "(2.71828182846, 8.15484548538)"
       ]
      }
     ],
     "prompt_number": 319
    },
    {
     "cell_type": "code",
     "collapsed": false,
     "input": [
      "\n",
      "b = Difauto(2., 6.)"
     ],
     "language": "python",
     "metadata": {},
     "outputs": [],
     "prompt_number": 320
    },
    {
     "cell_type": "code",
     "collapsed": false,
     "input": [
      "a + b\n",
      "a - b"
     ],
     "language": "python",
     "metadata": {},
     "outputs": [
      {
       "metadata": {},
       "output_type": "pyout",
       "prompt_number": 321,
       "text": [
        "(-1.0, -3.0)"
       ]
      }
     ],
     "prompt_number": 321
    },
    {
     "cell_type": "code",
     "collapsed": false,
     "input": [
      "a*b"
     ],
     "language": "python",
     "metadata": {},
     "outputs": [
      {
       "metadata": {},
       "output_type": "pyout",
       "prompt_number": 322,
       "text": [
        "(2.0, 12.0)"
       ]
      }
     ],
     "prompt_number": 322
    },
    {
     "cell_type": "code",
     "collapsed": false,
     "input": [
      "a/b"
     ],
     "language": "python",
     "metadata": {},
     "outputs": [
      {
       "metadata": {},
       "output_type": "pyout",
       "prompt_number": 323,
       "text": [
        "(0.5, 0.0)"
       ]
      }
     ],
     "prompt_number": 323
    },
    {
     "cell_type": "code",
     "collapsed": false,
     "input": [
      "print a.argumentof, b.argumentof\n",
      "print np.exp(a.argumentof), np.exp(b.argumentof)"
     ],
     "language": "python",
     "metadata": {},
     "outputs": [
      {
       "output_type": "stream",
       "stream": "stdout",
       "text": [
        "1.0 2.0\n",
        "2.71828182846 7.38905609893\n"
       ]
      }
     ],
     "prompt_number": 324
    },
    {
     "cell_type": "code",
     "collapsed": false,
     "input": [
      "import numpy as np"
     ],
     "language": "python",
     "metadata": {},
     "outputs": [],
     "prompt_number": 325
    },
    {
     "cell_type": "code",
     "collapsed": false,
     "input": [
      "np.exp(1)"
     ],
     "language": "python",
     "metadata": {},
     "outputs": [
      {
       "metadata": {},
       "output_type": "pyout",
       "prompt_number": 326,
       "text": [
        "2.7182818284590451"
       ]
      }
     ],
     "prompt_number": 326
    },
    {
     "cell_type": "code",
     "collapsed": false,
     "input": [
      "a.argumentof, a.argumentod"
     ],
     "language": "python",
     "metadata": {},
     "outputs": [
      {
       "metadata": {},
       "output_type": "pyout",
       "prompt_number": 327,
       "text": [
        "(1.0, 3.0)"
       ]
      }
     ],
     "prompt_number": 327
    },
    {
     "cell_type": "code",
     "collapsed": false,
     "input": [
      "b.argumentof, b.argumentod"
     ],
     "language": "python",
     "metadata": {},
     "outputs": [
      {
       "metadata": {},
       "output_type": "pyout",
       "prompt_number": 328,
       "text": [
        "(2.0, 6.0)"
       ]
      }
     ],
     "prompt_number": 328
    },
    {
     "cell_type": "code",
     "collapsed": false,
     "input": [
      "b.exp()"
     ],
     "language": "python",
     "metadata": {},
     "outputs": [
      {
       "metadata": {},
       "output_type": "pyout",
       "prompt_number": 329,
       "text": [
        "(7.38905609893, 44.3343365936)"
       ]
      }
     ],
     "prompt_number": 329
    },
    {
     "cell_type": "code",
     "collapsed": false,
     "input": [
      "a.power(2)"
     ],
     "language": "python",
     "metadata": {},
     "outputs": [
      {
       "metadata": {},
       "output_type": "pyout",
       "prompt_number": 330,
       "text": [
        "(1.0, 6.0)"
       ]
      }
     ],
     "prompt_number": 330
    },
    {
     "cell_type": "code",
     "collapsed": false,
     "input": [
      "a.log()"
     ],
     "language": "python",
     "metadata": {},
     "outputs": [
      {
       "metadata": {},
       "output_type": "pyout",
       "prompt_number": 331,
       "text": [
        "(0.0, 3.0)"
       ]
      }
     ],
     "prompt_number": 331
    },
    {
     "cell_type": "code",
     "collapsed": false,
     "input": [
      "np.log(a.argumentod)"
     ],
     "language": "python",
     "metadata": {},
     "outputs": [
      {
       "metadata": {},
       "output_type": "pyout",
       "prompt_number": 332,
       "text": [
        "1.0986122886681098"
       ]
      }
     ],
     "prompt_number": 332
    },
    {
     "cell_type": "code",
     "collapsed": false,
     "input": [
      "(1./a.argumentof)*a.argumentod"
     ],
     "language": "python",
     "metadata": {},
     "outputs": [
      {
       "metadata": {},
       "output_type": "pyout",
       "prompt_number": 333,
       "text": [
        "3.0"
       ]
      }
     ],
     "prompt_number": 333
    },
    {
     "cell_type": "code",
     "collapsed": false,
     "input": [
      "a.log()"
     ],
     "language": "python",
     "metadata": {},
     "outputs": [
      {
       "metadata": {},
       "output_type": "pyout",
       "prompt_number": 334,
       "text": [
        "(0.0, 3.0)"
       ]
      }
     ],
     "prompt_number": 334
    },
    {
     "cell_type": "code",
     "collapsed": false,
     "input": [
      "a.sen()"
     ],
     "language": "python",
     "metadata": {},
     "outputs": [
      {
       "metadata": {},
       "output_type": "pyout",
       "prompt_number": 335,
       "text": [
        "(0.841470984808, 1.6209069176)"
       ]
      }
     ],
     "prompt_number": 335
    },
    {
     "cell_type": "code",
     "collapsed": false,
     "input": [
      "a.cos()"
     ],
     "language": "python",
     "metadata": {},
     "outputs": [
      {
       "metadata": {},
       "output_type": "pyout",
       "prompt_number": 336,
       "text": [
        "(0.540302305868, -2.52441295442)"
       ]
      }
     ],
     "prompt_number": 336
    },
    {
     "cell_type": "code",
     "collapsed": false,
     "input": [
      "a.tan()"
     ],
     "language": "python",
     "metadata": {},
     "outputs": [
      {
       "metadata": {},
       "output_type": "pyout",
       "prompt_number": 337,
       "text": [
        "(1.55740772465, 10.2765564624)"
       ]
      }
     ],
     "prompt_number": 337
    },
    {
     "cell_type": "code",
     "collapsed": false,
     "input": [],
     "language": "python",
     "metadata": {},
     "outputs": [],
     "prompt_number": 337
    },
    {
     "cell_type": "code",
     "collapsed": false,
     "input": [],
     "language": "python",
     "metadata": {},
     "outputs": []
    }
   ],
   "metadata": {}
  }
 ]
}