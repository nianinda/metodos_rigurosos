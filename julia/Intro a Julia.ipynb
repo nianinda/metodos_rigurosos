{
 "metadata": {
  "language": "Julia",
  "name": ""
 },
 "nbformat": 3,
 "nbformat_minor": 0,
 "worksheets": [
  {
   "cells": [
    {
     "cell_type": "heading",
     "level": 1,
     "metadata": {},
     "source": [
      "Introducci\u00f3n a Julia"
     ]
    },
    {
     "cell_type": "heading",
     "level": 2,
     "metadata": {},
     "source": [
      "Enteros y Puntos Flotantes"
     ]
    },
    {
     "cell_type": "markdown",
     "metadata": {},
     "source": [
      "La divisi\u00f3n de enteros da flotantes"
     ]
    },
    {
     "cell_type": "code",
     "collapsed": false,
     "input": [
      "1 / 3"
     ],
     "language": "python",
     "metadata": {},
     "outputs": [
      {
       "metadata": {},
       "output_type": "pyout",
       "prompt_number": 1,
       "text": [
        "0.3333333333333333"
       ]
      }
     ],
     "prompt_number": 1
    },
    {
     "cell_type": "code",
     "collapsed": false,
     "input": [
      "a = 1/3\n",
      "typeof(a)"
     ],
     "language": "python",
     "metadata": {},
     "outputs": [
      {
       "metadata": {},
       "output_type": "pyout",
       "prompt_number": 2,
       "text": [
        "Float64"
       ]
      },
      {
       "metadata": {},
       "output_type": "pyout",
       "prompt_number": 3,
       "text": [
        "Float64"
       ]
      }
     ],
     "prompt_number": 3
    },
    {
     "cell_type": "markdown",
     "metadata": {},
     "source": [
      "Los flotantes se pueden escribir tambi\u00e9n en notaci\u00f3n cient\u00edfica"
     ]
    },
    {
     "cell_type": "code",
     "collapsed": false,
     "input": [
      "a = 3e16"
     ],
     "language": "python",
     "metadata": {},
     "outputs": [
      {
       "metadata": {},
       "output_type": "pyout",
       "prompt_number": 4,
       "text": [
        "3.0e16"
       ]
      }
     ],
     "prompt_number": 4
    },
    {
     "cell_type": "code",
     "collapsed": false,
     "input": [
      "a^2"
     ],
     "language": "python",
     "metadata": {},
     "outputs": [
      {
       "metadata": {},
       "output_type": "pyout",
       "prompt_number": 5,
       "text": [
        "9.0e32"
       ]
      }
     ],
     "prompt_number": 5
    },
    {
     "cell_type": "markdown",
     "metadata": {},
     "source": [
      "Las operaciones matem\u00e1ticas se escriben a\u00fan m\u00e1s facilmente que en otros lenguajes:\n"
     ]
    },
    {
     "cell_type": "code",
     "collapsed": false,
     "input": [
      "a = 3"
     ],
     "language": "python",
     "metadata": {},
     "outputs": [
      {
       "metadata": {},
       "output_type": "pyout",
       "prompt_number": 6,
       "text": [
        "3"
       ]
      }
     ],
     "prompt_number": 6
    },
    {
     "cell_type": "code",
     "collapsed": false,
     "input": [
      "b = 2a^2 + a + 1"
     ],
     "language": "python",
     "metadata": {},
     "outputs": [
      {
       "metadata": {},
       "output_type": "pyout",
       "prompt_number": 7,
       "text": [
        "22"
       ]
      }
     ],
     "prompt_number": 7
    },
    {
     "cell_type": "markdown",
     "metadata": {},
     "source": [
      "Se incluyen Inf, -Inf y los ceros con signo como numeros de tipo punto flotante"
     ]
    },
    {
     "cell_type": "code",
     "collapsed": false,
     "input": [
      "typeof(Inf)"
     ],
     "language": "python",
     "metadata": {},
     "outputs": [
      {
       "metadata": {},
       "output_type": "pyout",
       "prompt_number": 8,
       "text": [
        "Float64"
       ]
      }
     ],
     "prompt_number": 8
    },
    {
     "cell_type": "code",
     "collapsed": false,
     "input": [
      "3 + Inf"
     ],
     "language": "python",
     "metadata": {},
     "outputs": [
      {
       "metadata": {},
       "output_type": "pyout",
       "prompt_number": 9,
       "text": [
        "Inf"
       ]
      }
     ],
     "prompt_number": 9
    },
    {
     "cell_type": "code",
     "collapsed": false,
     "input": [
      "3 - Inf"
     ],
     "language": "python",
     "metadata": {},
     "outputs": [
      {
       "metadata": {},
       "output_type": "pyout",
       "prompt_number": 10,
       "text": [
        "-Inf"
       ]
      }
     ],
     "prompt_number": 10
    },
    {
     "cell_type": "code",
     "collapsed": false,
     "input": [
      "Inf - Inf"
     ],
     "language": "python",
     "metadata": {},
     "outputs": [
      {
       "metadata": {},
       "output_type": "pyout",
       "prompt_number": 11,
       "text": [
        "NaN"
       ]
      }
     ],
     "prompt_number": 11
    },
    {
     "cell_type": "code",
     "collapsed": false,
     "input": [
      "Inf / Inf"
     ],
     "language": "python",
     "metadata": {},
     "outputs": [
      {
       "metadata": {},
       "output_type": "pyout",
       "prompt_number": 12,
       "text": [
        "NaN"
       ]
      }
     ],
     "prompt_number": 12
    },
    {
     "cell_type": "code",
     "collapsed": false,
     "input": [
      "1 / Inf"
     ],
     "language": "python",
     "metadata": {},
     "outputs": [
      {
       "metadata": {},
       "output_type": "pyout",
       "prompt_number": 13,
       "text": [
        "0.0"
       ]
      }
     ],
     "prompt_number": 13
    },
    {
     "cell_type": "code",
     "collapsed": false,
     "input": [
      "-1 / Inf"
     ],
     "language": "python",
     "metadata": {},
     "outputs": [
      {
       "metadata": {},
       "output_type": "pyout",
       "prompt_number": 14,
       "text": [
        "-0.0"
       ]
      }
     ],
     "prompt_number": 14
    },
    {
     "cell_type": "markdown",
     "metadata": {},
     "source": [
      "El 0 y el -0 se consideran como iguales, cuando se utiliza el operador ==.\n",
      "Sin embargo son diferentes si se ven los bits..."
     ]
    },
    {
     "cell_type": "code",
     "collapsed": false,
     "input": [
      " cero = float(0)"
     ],
     "language": "python",
     "metadata": {},
     "outputs": [
      {
       "metadata": {},
       "output_type": "pyout",
       "prompt_number": 15,
       "text": [
        "0.0"
       ]
      }
     ],
     "prompt_number": 15
    },
    {
     "cell_type": "code",
     "collapsed": false,
     "input": [
      "-cero"
     ],
     "language": "python",
     "metadata": {},
     "outputs": [
      {
       "metadata": {},
       "output_type": "pyout",
       "prompt_number": 16,
       "text": [
        "-0.0"
       ]
      }
     ],
     "prompt_number": 16
    },
    {
     "cell_type": "code",
     "collapsed": false,
     "input": [
      "cero == -cero"
     ],
     "language": "python",
     "metadata": {},
     "outputs": [
      {
       "metadata": {},
       "output_type": "pyout",
       "prompt_number": 17,
       "text": [
        "true"
       ]
      }
     ],
     "prompt_number": 17
    },
    {
     "cell_type": "code",
     "collapsed": false,
     "input": [
      "bits(cero)"
     ],
     "language": "python",
     "metadata": {},
     "outputs": [
      {
       "metadata": {},
       "output_type": "pyout",
       "prompt_number": 18,
       "text": [
        "\"0000000000000000000000000000000000000000000000000000000000000000\""
       ]
      }
     ],
     "prompt_number": 18
    },
    {
     "cell_type": "code",
     "collapsed": false,
     "input": [
      "bits(-cero)"
     ],
     "language": "python",
     "metadata": {},
     "outputs": [
      {
       "metadata": {},
       "output_type": "pyout",
       "prompt_number": 19,
       "text": [
        "\"1000000000000000000000000000000000000000000000000000000000000000\""
       ]
      }
     ],
     "prompt_number": 19
    },
    {
     "cell_type": "markdown",
     "metadata": {},
     "source": [
      "Multipresici\u00f3n en Julia:"
     ]
    },
    {
     "cell_type": "code",
     "collapsed": false,
     "input": [
      "factorial(80)"
     ],
     "language": "python",
     "metadata": {},
     "outputs": [
      {
       "metadata": {},
       "output_type": "pyout",
       "prompt_number": 20,
       "text": [
        "0"
       ]
      }
     ],
     "prompt_number": 20
    },
    {
     "cell_type": "code",
     "collapsed": false,
     "input": [
      "factorial(BigInt(80))"
     ],
     "language": "python",
     "metadata": {},
     "outputs": [
      {
       "metadata": {},
       "output_type": "pyout",
       "prompt_number": 21,
       "text": [
        "71569457046263802294811533723186532165584657342365752577109445058227039255480148842668944867280814080000000000000000000"
       ]
      }
     ],
     "prompt_number": 21
    },
    {
     "cell_type": "code",
     "collapsed": false,
     "input": [
      "numero_grande = 3e164"
     ],
     "language": "python",
     "metadata": {},
     "outputs": [
      {
       "metadata": {},
       "output_type": "pyout",
       "prompt_number": 22,
       "text": [
        "3.0e164"
       ]
      }
     ],
     "prompt_number": 22
    },
    {
     "cell_type": "code",
     "collapsed": false,
     "input": [
      "numero_grande^2"
     ],
     "language": "python",
     "metadata": {},
     "outputs": [
      {
       "metadata": {},
       "output_type": "pyout",
       "prompt_number": 23,
       "text": [
        "Inf"
       ]
      }
     ],
     "prompt_number": 23
    },
    {
     "cell_type": "code",
     "collapsed": false,
     "input": [
      "BigFloat(numero_grande)^2"
     ],
     "language": "python",
     "metadata": {},
     "outputs": [
      {
       "metadata": {},
       "output_type": "pyout",
       "prompt_number": 24,
       "text": [
        "9.000000000000000032100299074582530601244489013011030373429990211771705063734794e+328 with 256 bits of precision"
       ]
      }
     ],
     "prompt_number": 24
    },
    {
     "cell_type": "heading",
     "level": 2,
     "metadata": {},
     "source": [
      "Cadenas"
     ]
    },
    {
     "cell_type": "code",
     "collapsed": false,
     "input": [
      "hola = \"Hola!\""
     ],
     "language": "python",
     "metadata": {},
     "outputs": [
      {
       "metadata": {},
       "output_type": "pyout",
       "prompt_number": 25,
       "text": [
        "\"Hola!\""
       ]
      }
     ],
     "prompt_number": 25
    },
    {
     "cell_type": "code",
     "collapsed": false,
     "input": [
      "print(hola)"
     ],
     "language": "python",
     "metadata": {},
     "outputs": [
      {
       "output_type": "stream",
       "stream": "stdout",
       "text": [
        "Hola!"
       ]
      }
     ],
     "prompt_number": 26
    },
    {
     "cell_type": "code",
     "collapsed": false,
     "input": [
      "a = 34.5\n",
      "b = 3.9\n",
      "c = 18.6"
     ],
     "language": "python",
     "metadata": {},
     "outputs": [
      {
       "metadata": {},
       "output_type": "pyout",
       "prompt_number": 27,
       "text": [
        "18.6"
       ]
      }
     ],
     "prompt_number": 27
    },
    {
     "cell_type": "code",
     "collapsed": false,
     "input": [
      "datos = \"El valor de a es: $a, b es igual a $b y finalmente $c es el valor de c\""
     ],
     "language": "python",
     "metadata": {},
     "outputs": [
      {
       "metadata": {},
       "output_type": "pyout",
       "prompt_number": 28,
       "text": [
        "\"El valor de a es: 34.5, b es igual a 3.9 y finalmente 18.6 es el valor de c\""
       ]
      }
     ],
     "prompt_number": 28
    },
    {
     "cell_type": "heading",
     "level": 2,
     "metadata": {},
     "source": [
      "Arreglos"
     ]
    },
    {
     "cell_type": "markdown",
     "metadata": {},
     "source": [
      "Los arreglos en julia se escriben con corchetes cuadrados [ ]"
     ]
    },
    {
     "cell_type": "code",
     "collapsed": false,
     "input": [
      "arreglo = [1,2,3,4]"
     ],
     "language": "python",
     "metadata": {},
     "outputs": [
      {
       "metadata": {},
       "output_type": "pyout",
       "prompt_number": 29,
       "text": [
        "4-element Int64 Array:\n",
        " 1\n",
        " 2\n",
        " 3\n",
        " 4"
       ]
      }
     ],
     "prompt_number": 29
    },
    {
     "cell_type": "code",
     "collapsed": false,
     "input": [
      "typeof(arreglo)"
     ],
     "language": "python",
     "metadata": {},
     "outputs": [
      {
       "metadata": {},
       "output_type": "pyout",
       "prompt_number": 30,
       "text": [
        "Array{Int64,1}"
       ]
      }
     ],
     "prompt_number": 30
    },
    {
     "cell_type": "markdown",
     "metadata": {},
     "source": [
      "Si le pasamos tipos de numeros distintos, los convierte a un mismo tipo"
     ]
    },
    {
     "cell_type": "code",
     "collapsed": false,
     "input": [
      "arreglo2 = [1, 2.0, 2.6, 3]"
     ],
     "language": "python",
     "metadata": {},
     "outputs": [
      {
       "metadata": {},
       "output_type": "pyout",
       "prompt_number": 32,
       "text": [
        "4-element Float64 Array:\n",
        " 1.0\n",
        " 2.0\n",
        " 2.6\n",
        " 3.0"
       ]
      }
     ],
     "prompt_number": 32
    },
    {
     "cell_type": "markdown",
     "metadata": {},
     "source": [
      "Para formar arreglos de objetos de diferentes tipos, se puede hacer con llaves { }"
     ]
    },
    {
     "cell_type": "code",
     "collapsed": false,
     "input": [
      "arreglo3 = {1, 2.0, 3}"
     ],
     "language": "python",
     "metadata": {},
     "outputs": [
      {
       "metadata": {},
       "output_type": "pyout",
       "prompt_number": 33,
       "text": [
        "3-element Any Array:\n",
        " 1  \n",
        " 2.0\n",
        " 3  "
       ]
      }
     ],
     "prompt_number": 33
    },
    {
     "cell_type": "code",
     "collapsed": false,
     "input": [
      "I = eye(3) #matriz identidad 3x3"
     ],
     "language": "python",
     "metadata": {},
     "outputs": [
      {
       "metadata": {},
       "output_type": "pyout",
       "prompt_number": 40,
       "text": [
        "3x3 Float64 Array:\n",
        " 1.0  0.0  0.0\n",
        " 0.0  1.0  0.0\n",
        " 0.0  0.0  1.0"
       ]
      }
     ],
     "prompt_number": 40
    },
    {
     "cell_type": "code",
     "collapsed": false,
     "input": [
      "arreglo[1:end]"
     ],
     "language": "python",
     "metadata": {},
     "outputs": [
      {
       "metadata": {},
       "output_type": "pyout",
       "prompt_number": 38,
       "text": [
        "4-element Int64 Array:\n",
        " 1\n",
        " 2\n",
        " 3\n",
        " 4"
       ]
      }
     ],
     "prompt_number": 38
    },
    {
     "cell_type": "code",
     "collapsed": false,
     "input": [
      "size(I)"
     ],
     "language": "python",
     "metadata": {},
     "outputs": [
      {
       "metadata": {},
       "output_type": "pyout",
       "prompt_number": 45,
       "text": [
        "(3,3)"
       ]
      }
     ],
     "prompt_number": 45
    },
    {
     "cell_type": "code",
     "collapsed": false,
     "input": [],
     "language": "python",
     "metadata": {},
     "outputs": []
    },
    {
     "cell_type": "heading",
     "level": 2,
     "metadata": {},
     "source": [
      "Funciones"
     ]
    },
    {
     "cell_type": "markdown",
     "metadata": {},
     "source": [
      "La sintaxis para definir funciones es la siguiente:"
     ]
    },
    {
     "cell_type": "code",
     "collapsed": false,
     "input": [
      "function f(x)\n",
      "    return 2x^2\n",
      "end"
     ],
     "language": "python",
     "metadata": {},
     "outputs": [
      {
       "metadata": {},
       "output_type": "pyout",
       "prompt_number": 46,
       "text": [
        "# methods for generic function f\n",
        "f(x) at In[46]:2"
       ]
      }
     ],
     "prompt_number": 46
    },
    {
     "cell_type": "code",
     "collapsed": false,
     "input": [
      "f(3)"
     ],
     "language": "python",
     "metadata": {},
     "outputs": [
      {
       "metadata": {},
       "output_type": "pyout",
       "prompt_number": 47,
       "text": [
        "18"
       ]
      }
     ],
     "prompt_number": 47
    },
    {
     "cell_type": "markdown",
     "metadata": {},
     "source": [
      "Sin embargo el return no es necesario, pues por default, la funci\u00f3n regresa el resultado del \u00faltimo renglon:"
     ]
    },
    {
     "cell_type": "code",
     "collapsed": false,
     "input": [
      "function f(x)\n",
      "    a = x^2\n",
      "    a = 2a\n",
      "    a\n",
      "end"
     ],
     "language": "python",
     "metadata": {},
     "outputs": [
      {
       "metadata": {},
       "output_type": "pyout",
       "prompt_number": 48,
       "text": [
        "# methods for generic function f\n",
        "f(x) at In[48]:2"
       ]
      }
     ],
     "prompt_number": 48
    },
    {
     "cell_type": "code",
     "collapsed": false,
     "input": [
      "f(BigFloat(3.0))"
     ],
     "language": "python",
     "metadata": {},
     "outputs": [
      {
       "metadata": {},
       "output_type": "pyout",
       "prompt_number": 56,
       "text": [
        "9e+00 with 256 bits of precision"
       ]
      }
     ],
     "prompt_number": 56
    },
    {
     "cell_type": "code",
     "collapsed": false,
     "input": [
      "f(3)"
     ],
     "language": "python",
     "metadata": {},
     "outputs": [
      {
       "metadata": {},
       "output_type": "pyout",
       "prompt_number": 49,
       "text": [
        "18"
       ]
      }
     ],
     "prompt_number": 49
    },
    {
     "cell_type": "markdown",
     "metadata": {},
     "source": [
      "Pero, las funciones tambien se pueden definir de manera m\u00e1s matem\u00e1tica!"
     ]
    },
    {
     "cell_type": "code",
     "collapsed": false,
     "input": [
      "f(x) = x^2"
     ],
     "language": "python",
     "metadata": {},
     "outputs": [
      {
       "metadata": {},
       "output_type": "pyout",
       "prompt_number": 50,
       "text": [
        "# methods for generic function f\n",
        "f(x) at In[50]:1"
       ]
      }
     ],
     "prompt_number": 50
    },
    {
     "cell_type": "code",
     "collapsed": false,
     "input": [
      "f(3)"
     ],
     "language": "python",
     "metadata": {},
     "outputs": [
      {
       "metadata": {},
       "output_type": "pyout",
       "prompt_number": 51,
       "text": [
        "9"
       ]
      }
     ],
     "prompt_number": 51
    },
    {
     "cell_type": "markdown",
     "metadata": {},
     "source": [
      "o inclusive"
     ]
    },
    {
     "cell_type": "code",
     "collapsed": false,
     "input": [
      "g = x -> x^3"
     ],
     "language": "python",
     "metadata": {},
     "outputs": [
      {
       "metadata": {},
       "output_type": "pyout",
       "prompt_number": 52,
       "text": [
        "# function"
       ]
      }
     ],
     "prompt_number": 52
    },
    {
     "cell_type": "code",
     "collapsed": false,
     "input": [
      "g(2)"
     ],
     "language": "python",
     "metadata": {},
     "outputs": [
      {
       "metadata": {},
       "output_type": "pyout",
       "prompt_number": 53,
       "text": [
        "8"
       ]
      }
     ],
     "prompt_number": 53
    },
    {
     "cell_type": "code",
     "collapsed": false,
     "input": [
      "map(g, arreglo)"
     ],
     "language": "python",
     "metadata": {},
     "outputs": [
      {
       "metadata": {},
       "output_type": "pyout",
       "prompt_number": 60,
       "text": [
        "4-element Int64 Array:\n",
        "  1\n",
        "  8\n",
        " 27\n",
        " 64"
       ]
      }
     ],
     "prompt_number": 60
    },
    {
     "cell_type": "code",
     "collapsed": false,
     "input": [
      "duplica = x -> 2x"
     ],
     "language": "python",
     "metadata": {},
     "outputs": [
      {
       "metadata": {},
       "output_type": "pyout",
       "prompt_number": 54,
       "text": [
        "# function"
       ]
      }
     ],
     "prompt_number": 54
    },
    {
     "cell_type": "code",
     "collapsed": false,
     "input": [
      "duplica(5)"
     ],
     "language": "python",
     "metadata": {},
     "outputs": [
      {
       "metadata": {},
       "output_type": "pyout",
       "prompt_number": 65,
       "text": [
        "10"
       ]
      }
     ],
     "prompt_number": 65
    },
    {
     "cell_type": "code",
     "collapsed": false,
     "input": [
      "gc_disable() #deshabilita el garbage collector\n",
      "tic()\n",
      "duplica(5)\n",
      "ttime = toc()"
     ],
     "language": "python",
     "metadata": {},
     "outputs": [
      {
       "output_type": "stream",
       "stream": "stdout",
       "text": [
        "elapsed time: 0."
       ]
      },
      {
       "output_type": "stream",
       "stream": "stdout",
       "text": [
        "000547518 seconds\n"
       ]
      },
      {
       "metadata": {},
       "output_type": "pyout",
       "prompt_number": 99,
       "text": [
        "0.000547518"
       ]
      }
     ],
     "prompt_number": 99
    },
    {
     "cell_type": "code",
     "collapsed": false,
     "input": [
      "ttime = 0\n",
      "for i = 1:1000\n",
      "    tic();\n",
      "    duplica(5);\n",
      "    ttime = ttime + toc();\n",
      "end\n",
      "ttime/1000"
     ],
     "language": "python",
     "metadata": {},
     "outputs": [
      {
       "output_type": "stream",
       "stream": "stdout",
       "text": [
        "elapsed time: 1"
       ]
      },
      {
       "output_type": "stream",
       "stream": "stdout",
       "text": [
        ".1386e-5 seconds\n",
        "elapsed time: 2.288e-6 seconds\n",
        "elapsed time: 1.032e-6 seconds\n",
        "elapsed time: 1.022e-6 seconds\n",
        "elapsed time: 1.014e-6 seconds\n",
        "elapsed time: 1.56e-5 seconds\n",
        "elapsed time: 1.055e-6 seconds\n",
        "elapsed time: 9.84e-7 seconds\n",
        "elapsed time: 9.69e-7 seconds\n",
        "elapsed time: 9.98e-7 seconds\n",
        "elapsed time: 1.512e-6 seconds\n",
        "elapsed time: 1.052e-6 seconds\n",
        "elapsed time: 1.526e-6 seconds\n",
        "elapsed time: 9.65e-7 seconds\n",
        "elapsed time: 9.91e-7 seconds\n",
        "elapsed time: 9.99e-7 seconds\n",
        "elapsed time: 1.293e-6 seconds\n",
        "elapsed time: 9.57e-7 seconds\n",
        "elapsed time: 9.61e-7 seconds\n",
        "elapsed time: 9.88e-7 seconds\n",
        "elapsed time: 9.88e-7 seconds\n",
        "elapsed time: 1.304e-6 seconds\n",
        "elapsed time: 9.53e-7 seconds\n",
        "elapsed time: 9.46e-7 seconds\n",
        "elapsed time: 1.036e-6 seconds\n",
        "elapsed time: 1.286e-6 seconds\n",
        "elapsed time: 9.84e-7 seconds\n",
        "elapsed time: 9.88e-7 seconds\n",
        "elapsed time: 9.69e-7 seconds\n",
        "elapsed time: 9.76e-7 seconds\n",
        "elapsed time: 1.026e-6 seconds\n",
        "elapsed time: 9.69e-7 seconds\n",
        "elapsed time: 9.72e-7 seconds\n",
        "elapsed time: 9.54e-7 seconds\n",
        "elapsed time: 9.58e-7 seconds\n",
        "elapsed time: 3.49e-6 seconds\n",
        "elapsed time: 1.002e-6 seconds\n",
        "elapsed time: 9.42e-7 seconds\n",
        "elapsed time: 1.176e-6 seconds\n",
        "elapsed time: 1.025e-6 seconds\n",
        "elapsed time: 1.127e-6 seconds\n",
        "elapsed time: 9.45e-7 seconds\n",
        "elapsed time: 1.097e-6 seconds\n",
        "elapsed time: 1.153e-6 seconds\n",
        "elapsed time: 9.87e-7 seconds\n",
        "elapsed time: 9.92e-7 seconds\n",
        "elapsed time: 1.033e-6 seconds\n",
        "elapsed time: 1.01e-6 seconds\n",
        "elapsed time: 1.021e-6 seconds\n",
        "elapsed time: 1.006e-6 seconds\n",
        "elapsed time: 9.84e-7 seconds\n",
        "elapsed time: 9.47e-7 seconds\n",
        "elapsed time: 1.014e-6 seconds\n",
        "elapsed time: 9.61e-7 seconds\n",
        "elapsed time: 1.044e-6 seconds\n",
        "elapsed time: 1.865e-6 seconds\n",
        "elapsed time: 9.84e-7 seconds\n",
        "elapsed time: 9.38e-7 seconds\n",
        "elapsed time: 9.46e-7 seconds\n",
        "elapsed time: 9.27e-7 seconds\n",
        "elapsed time: 9.68e-7 seconds\n",
        "elapsed time: 9.35e-7 seconds\n",
        "elapsed time: 9.69e-7 seconds\n",
        "elapsed time: 9.31e-7 seconds\n",
        "elapsed time: 1.014e-6 seconds\n",
        "elapsed time: 9.76e-7 seconds\n",
        "elapsed time: 9.73e-7 seconds\n",
        "elapsed time: 9.68e-7 seconds\n",
        "elapsed time: 1.496e-6 seconds\n",
        "elapsed time: 9.8e-7 seconds\n",
        "elapsed time: 9.91e-7 seconds\n",
        "elapsed time: 9.57e-7 seconds\n",
        "elapsed time: 1.002e-6 seconds\n",
        "elapsed time: 9.49e-7 seconds\n",
        "elapsed time: 9.57e-7 seconds\n",
        "elapsed time: 9.73e-7 seconds\n",
        "elapsed time: 9.46e-7 seconds\n",
        "elapsed time: 9.84e-7 seconds\n",
        "elapsed time: 9.2e-7 seconds\n",
        "elapsed time: 9.77e-7 seconds\n",
        "elapsed time: 9.65e-7 seconds\n",
        "elapsed time: 9.19e-7 seconds\n",
        "elapsed time: 9.46e-7 seconds\n",
        "elapsed time: 9.31e-7 seconds\n",
        "elapsed time: 9.68e-7 seconds\n",
        "elapsed time: 9.19e-7 seconds\n",
        "elapsed time: 9.38e-7 seconds\n",
        "elapsed time: 1.648e-6 seconds\n",
        "elapsed time: 9.5e-7 seconds\n",
        "elapsed time: 9.34e-7 seconds\n",
        "elapsed time: 9.5e-7 seconds\n",
        "elapsed time: 9.84e-7 seconds\n",
        "elapsed time: 9.57e-7 seconds\n",
        "elapsed time: 9.61e-7 seconds\n",
        "elapsed time: 9.98e-7 seconds\n",
        "elapsed time: 9.46e-7 seconds\n",
        "elapsed time: 9.69e-7 seconds\n",
        "elapsed time: 9.5e-7 seconds\n",
        "elapsed time: 9.53e-7 seconds\n",
        "elapsed time: 9.61e-7 seconds\n",
        "elapsed time: 9.5e-7 seconds\n",
        "elapsed time: 9.31e-7 seconds\n",
        "elapsed time: 9.27e-7 seconds\n",
        "elapsed time: 9.69e-7 seconds\n",
        "elapsed time: 9.77e-7 seconds\n",
        "elapsed time: 9.34e-7 seconds\n",
        "elapsed time: 9.38e-7 seconds\n",
        "elapsed time: 9.12e-7 seconds\n",
        "elapsed time: 9.2e-7 seconds\n",
        "elapsed time: 8.084e-6 seconds\n",
        "elapsed time: 1.165e-6 seconds\n",
        "elapsed time: 9.65e-7 seconds\n",
        "elapsed time: 1.135e-6 seconds\n",
        "elapsed time: 9.61e-7 seconds\n",
        "elapsed time: 1.003e-6 seconds\n",
        "elapsed time: 9.53e-7 seconds\n",
        "elapsed time: 9.58e-7 seconds\n",
        "elapsed time: 9.53e-7 seconds\n",
        "elapsed time: 9.64e-7 seconds\n",
        "elapsed time: 9.99e-7 seconds\n",
        "elapsed time: 4.24e-6 seconds\n",
        "elapsed time: 1.161e-6 seconds\n",
        "elapsed time: 1.047e-6 seconds\n",
        "elapsed time: 9.5e-7 seconds\n",
        "elapsed time: 9.58e-7 seconds\n",
        "elapsed time: 1.028e-6 seconds\n",
        "elapsed time: 9.91e-7 seconds\n",
        "elapsed time: 9.65e-7 seconds\n",
        "elapsed time: 9.88e-7 seconds\n",
        "elapsed time: 9.31e-7 seconds\n",
        "elapsed time: 9.54e-7 seconds\n",
        "elapsed time: 1.01e-6 seconds\n",
        "elapsed time: 9.57e-7 seconds\n",
        "elapsed time: 9.58e-7 seconds\n",
        "elapsed time: 9.35e-7 seconds\n",
        "elapsed time: 9.88e-7 seconds\n",
        "elapsed time: 1.055e-6 seconds\n",
        "elapsed time: 1.014e-6 seconds\n",
        "elapsed time: 9.8e-7 seconds\n",
        "elapsed time: 9.46e-7 seconds\n",
        "elapsed time: 9.46e-7 seconds\n",
        "elapsed time: 9.99e-7 seconds\n",
        "elapsed time: 1.006e-6 seconds\n",
        "elapsed time: 9.5e-7 seconds\n",
        "elapsed time: 1.017e-6 seconds\n",
        "elapsed time: 9.65e-7 seconds\n",
        "elapsed time: 1.041e-6 seconds\n",
        "elapsed time: 9.98e-7 seconds\n",
        "elapsed time: 9.84e-7 seconds\n",
        "elapsed time: 9.8e-7 seconds\n",
        "elapsed time: 1.681e-6 seconds\n",
        "elapsed time: 9.5e-7 seconds\n",
        "elapsed time: 1.032e-6 seconds\n",
        "elapsed time: 1.025e-6 seconds\n",
        "elapsed time: 9.8e-7 seconds\n",
        "elapsed time: 9.61e-7 seconds\n",
        "elapsed time: 9.69e-7 seconds\n",
        "elapsed time: 9.62e-7 seconds\n",
        "elapsed time: 9.65e-7 seconds\n",
        "elapsed time: 9.99e-7 seconds\n",
        "elapsed time: 9.73e-7 seconds\n",
        "elapsed time: 1.01e-6 seconds\n",
        "elapsed time: 9.57e-7 seconds\n",
        "elapsed time: 1.003e-6 seconds\n",
        "elapsed time: 9.49e-7 seconds\n",
        "elapsed time: 1.04e-6 seconds\n",
        "elapsed time: 1.274e-6 seconds\n",
        "elapsed time: 9.65e-7 seconds\n",
        "elapsed time: 9.98e-7 seconds\n",
        "elapsed time: 9.72e-7 seconds\n",
        "elapsed time: 9.57e-7 seconds\n",
        "elapsed time: 9.92e-7 seconds\n",
        "elapsed time: 9.69e-7 seconds\n",
        "elapsed time: 9.42e-7 seconds\n",
        "elapsed time: 1.002e-6 seconds\n",
        "elapsed time: 9.65e-7 seconds\n",
        "elapsed time: 9.83e-7 seconds\n",
        "elapsed time: 9.73e-7 seconds\n",
        "elapsed time: 9.62e-7 seconds\n",
        "elapsed time: 9.57e-7 seconds\n",
        "elapsed time: 1.006e-6 seconds\n",
        "elapsed time: 9.72e-7 seconds\n",
        "elapsed time: 1.127e-6 seconds\n",
        "elapsed time: 9.68e-7 seconds\n",
        "elapsed time: 9.72e-7 seconds\n",
        "elapsed time: 1.006e-6 seconds\n",
        "elapsed time: 9.42e-7 seconds\n",
        "elapsed time: 9.53e-7 seconds\n",
        "elapsed time: 9.35e-7 seconds\n",
        "elapsed time: 9.38e-7 seconds\n",
        "elapsed time: 9.49e-7 seconds\n",
        "elapsed time: 9.76e-7 seconds\n",
        "elapsed time: 1.052e-6 seconds\n",
        "elapsed time: 1.04e-6 seconds\n",
        "elapsed time: 1.037e-6 seconds\n",
        "elapsed time: 9.57e-7 seconds\n",
        "elapsed time: 1.123e-6 seconds\n",
        "elapsed time: 9.54e-7 seconds\n",
        "elapsed time: 1.037e-6 seconds\n",
        "elapsed time: 9.8e-7 seconds\n",
        "elapsed time: 1.037e-6 seconds\n",
        "elapsed time: 9.46e-7 seconds\n",
        "elapsed time: 9.69e-7 seconds\n",
        "elapsed time: 9.61e-7 seconds\n",
        "elapsed time: 9.8e-7 seconds\n",
        "elapsed time: 9.5e-7 seconds\n",
        "elapsed time: 9.95e-7 seconds\n",
        "elapsed time: 9.84e-7 seconds\n",
        "elapsed time: 9.99e-7 seconds\n",
        "elapsed time: 9.57e-7 seconds\n",
        "elapsed time: 9.39e-7 seconds\n",
        "elapsed time: 9.61e-7 seconds\n",
        "elapsed time: 1.541e-6 seconds\n",
        "elapsed time: 1.025e-6 seconds\n",
        "elapsed time: 9.65e-7 seconds\n",
        "elapsed time: 9.5e-7 seconds\n",
        "elapsed time: 9.87e-7 seconds\n",
        "elapsed time: 1.006e-6 seconds\n",
        "elapsed time: 9.8e-7 seconds\n",
        "elapsed time: 9.88e-7 seconds\n",
        "elapsed time: 9.57e-7 seconds\n",
        "elapsed time: 9.46e-7 seconds\n",
        "elapsed time: 9.35e-7 seconds\n",
        "elapsed time: 9.57e-7 seconds\n",
        "elapsed time: 1.289e-6 seconds\n",
        "elapsed time: 9.69e-7 seconds\n",
        "elapsed time: 9.46e-7 seconds\n",
        "elapsed time: 9.8e-7 seconds\n",
        "elapsed time: 9.61e-7 seconds\n",
        "elapsed time: 1.028e-6 seconds\n",
        "elapsed time: 9.8e-7 seconds\n",
        "elapsed time: 9.8e-7 seconds\n",
        "elapsed time: 1.014e-6 seconds\n",
        "elapsed time: 9.64e-7 seconds\n",
        "elapsed time: 1.059e-6 seconds\n",
        "elapsed time: 9.99e-7 seconds\n",
        "elapsed time: 9.49e-7 seconds\n",
        "elapsed time: 9.64e-7 seconds\n",
        "elapsed time: 9.73e-7 seconds\n",
        "elapsed time: 9.68e-7 seconds\n",
        "elapsed time: 9.91e-7 seconds\n",
        "elapsed time: 9.46e-7 seconds\n",
        "elapsed time: 9.58e-7 seconds\n",
        "elapsed time: 9.61e-7 seconds\n",
        "elapsed time: 9.57e-7 seconds\n",
        "elapsed time: 9.61e-7 seconds\n",
        "elapsed time: 1.033e-6 seconds\n",
        "elapsed time: 9.99e-7 seconds\n",
        "elapsed time: 1.014e-6 seconds\n",
        "elapsed time: 9.5e-7 seconds\n",
        "elapsed time: 9.91e-7 seconds\n",
        "elapsed time: 9.87e-7 seconds\n",
        "elapsed time: 9.57e-7 seconds\n",
        "elapsed time: 9.69e-7 seconds\n",
        "elapsed time: 9.8e-7 seconds\n",
        "elapsed time: 9.84e-7 seconds\n",
        "elapsed time: 9.69e-7 seconds\n",
        "elapsed time: 9.57e-7 seconds\n",
        "elapsed time: 9.61e-7 seconds\n",
        "elapsed time: 9.95e-7 seconds\n",
        "elapsed time: 9.61e-7 seconds\n",
        "elapsed time: 1.176e-6 seconds\n",
        "elapsed time: 9.87e-7 seconds\n",
        "elapsed time: 9.42e-7 seconds\n",
        "elapsed time: 9.91e-7 seconds\n",
        "elapsed time: 9.39e-7 seconds\n",
        "elapsed time: 9.53e-7 seconds\n",
        "elapsed time: 9.87e-7 seconds\n",
        "elapsed time: 9.47e-7 seconds\n",
        "elapsed time: 9.54e-7 seconds\n",
        "elapsed time: 9.87e-7 seconds\n",
        "elapsed time: 9.39e-7 seconds\n",
        "elapsed time: 1.093e-6 seconds\n",
        "elapsed time: 9.87e-7 seconds\n",
        "elapsed time: 9.88e-7 seconds\n",
        "elapsed time: 9.73e-7 seconds\n",
        "elapsed time: 9.61e-7 seconds\n",
        "elapsed time: 9.46e-7 seconds\n",
        "elapsed time: 9.42e-7 seconds\n",
        "elapsed time: 9.8e-7 seconds\n",
        "elapsed time: 1.014e-6 seconds\n",
        "elapsed time: 9.53e-7 seconds\n",
        "elapsed time: 9.61e-7 seconds\n",
        "elapsed time: 9.54e-7 seconds\n",
        "elapsed time: 1.003e-6 seconds\n",
        "elapsed time: 9.72e-7 seconds\n",
        "elapsed time: 9.6e-7 seconds\n",
        "elapsed time: 9.5e-7 seconds\n",
        "elapsed time: 1.015e-6 seconds\n",
        "elapsed time: 9.57e-7 seconds\n",
        "elapsed time: 9.95e-7 seconds\n",
        "elapsed time: 9.76e-7 seconds\n",
        "elapsed time: 9.65e-7 seconds\n",
        "elapsed time: 9.83e-7 seconds\n",
        "elapsed time: 9.58e-7 seconds\n",
        "elapsed time: 9.8e-7 seconds\n",
        "elapsed time: 9.68e-7 seconds\n",
        "elapsed time: 1.006e-6 seconds\n",
        "elapsed time: 9.69e-7 seconds\n",
        "elapsed time: 1.006e-6 seconds\n",
        "elapsed time: 1.082e-6 seconds\n",
        "elapsed time: 9.72e-7 seconds\n",
        "elapsed time: 9.61e-7 seconds\n",
        "elapsed time: 1.854e-6 seconds\n",
        "elapsed time: 4.153e-6 seconds\n",
        "elapsed time: 4.213e-6 seconds\n",
        "elapsed time: 1.029e-6 seconds\n",
        "elapsed time: 1.375e-6 seconds\n",
        "elapsed time: 1.003e-6 seconds\n",
        "elapsed time: 1.041e-6 seconds\n",
        "elapsed time: 1.134e-6 seconds\n",
        "elapsed time: 1.029e-6 seconds\n",
        "elapsed time: 1.022e-6 seconds\n",
        "elapsed time: 9.35e-7 seconds\n",
        "elapsed time: 1.017e-6 seconds\n",
        "elapsed time: 9.84e-7 seconds\n",
        "elapsed time: 9.31e-7 seconds\n",
        "elapsed time: 1.006e-6 seconds\n",
        "elapsed time: 9.2e-7 seconds\n",
        "elapsed time: 9.92e-7 seconds\n",
        "elapsed time: 9.46e-7 seconds\n",
        "elapsed time: 9.04e-7 seconds\n",
        "elapsed time: 9.04e-7 seconds\n",
        "elapsed time: 9.16e-7 seconds\n",
        "elapsed time: 9.31e-7 seconds\n",
        "elapsed time: 9.76e-7 seconds\n",
        "elapsed time: 9.87e-7 seconds\n",
        "elapsed time: 9.35e-7 seconds\n",
        "elapsed time: 9.31e-7 seconds\n",
        "elapsed time: 9.61e-7 seconds\n",
        "elapsed time: 9.35e-7 seconds\n",
        "elapsed time: 9.57e-7 seconds\n",
        "elapsed time: 9.19e-7 seconds\n",
        "elapsed time: 9.23e-7 seconds\n",
        "elapsed time: 9.12e-7 seconds\n",
        "elapsed time: 9.27e-7 seconds\n",
        "elapsed time: 9.27e-7 seconds\n",
        "elapsed time: 9.16e-7 seconds\n",
        "elapsed time: 9.16e-7 seconds\n",
        "elapsed time: 9.69e-7 seconds\n",
        "elapsed time: 9.27e-7 seconds\n",
        "elapsed time: 9.23e-7 seconds\n",
        "elapsed time: 9.57e-7 seconds\n",
        "elapsed time: 9.43e-7 seconds\n",
        "elapsed time: 9.58e-7 seconds\n",
        "elapsed time: 9.16e-7 seconds\n",
        "elapsed time: 9.31e-7 seconds\n",
        "elapsed time: 9.42e-7 seconds\n",
        "elapsed time: 1.5226e-5 seconds\n",
        "elapsed time: 9.42e-7 seconds\n",
        "elapsed time: 1.017e-6 seconds\n",
        "elapsed time: 9.8e-7 seconds\n",
        "elapsed time: 1.07e-6 seconds\n",
        "elapsed time: 9.72e-7 seconds\n",
        "elapsed time: 9.53e-7 seconds\n",
        "elapsed time: 9.72e-7 seconds\n",
        "elapsed time: 9.69e-7 seconds\n",
        "elapsed time: 9.27e-7 seconds\n",
        "elapsed time: 9.95e-7 seconds\n",
        "elapsed time: 9.61e-7 seconds\n",
        "elapsed time: 1.172e-6 seconds\n",
        "elapsed time: 1.033e-6 seconds\n",
        "elapsed time: 4.963e-6 seconds\n",
        "elapsed time: 1.032e-6 seconds\n",
        "elapsed time: 9.77e-7 seconds\n",
        "elapsed time: 9.83e-7 seconds\n",
        "elapsed time: 1.002e-6 seconds\n",
        "elapsed time: 9.76e-7 seconds\n",
        "elapsed time: 9.87e-7 seconds\n",
        "elapsed time: 9.76e-7 seconds\n",
        "elapsed time: 9.69e-7 seconds\n",
        "elapsed time: 9.95e-7 seconds\n",
        "elapsed time: 9.64e-7 seconds\n",
        "elapsed time: 9.72e-7 seconds\n",
        "elapsed time: 9.65e-7 seconds\n",
        "elapsed time: 9.69e-7 seconds\n",
        "elapsed time: 1.021e-6 seconds\n",
        "elapsed time: 9.58e-7 seconds\n",
        "elapsed time: 9.99e-7 seconds\n",
        "elapsed time: 9.62e-7 seconds\n",
        "elapsed time: 9.34e-7 seconds\n",
        "elapsed time: 9.65e-7 seconds\n",
        "elapsed time: 9.62e-7 seconds\n",
        "elapsed time: 9.76e-7 seconds\n",
        "elapsed time: 9.69e-7 seconds\n",
        "elapsed time: 1.003e-6 seconds\n",
        "elapsed time: 9.76e-7 seconds\n",
        "elapsed time: 9.57e-7 seconds\n",
        "elapsed time: 9.61e-7 seconds\n",
        "elapsed time: 1.067e-6 seconds\n",
        "elapsed time: 9.84e-7 seconds\n",
        "elapsed time: 9.76e-7 seconds\n",
        "elapsed time: 1.21e-6 seconds\n",
        "elapsed time: 1.048e-6 seconds\n",
        "elapsed time: 9.61e-7 seconds\n",
        "elapsed time: 9.95e-7 seconds\n",
        "elapsed time: 9.72e-7 seconds\n",
        "elapsed time: 9.42e-7 seconds\n",
        "elapsed time: 9.39e-7 seconds\n",
        "elapsed time: 9.45e-7 seconds\n",
        "elapsed time: 9.91e-7 seconds\n",
        "elapsed time: 9.57e-7 seconds\n",
        "elapsed time: 9.68e-7 seconds\n",
        "elapsed time: 9.58e-7 seconds\n",
        "elapsed time: 9.95e-7 seconds\n",
        "elapsed time: 9.61e-7 seconds\n",
        "elapsed time: 9.57e-7 seconds\n",
        "elapsed time: 9.65e-7 seconds\n",
        "elapsed time: 9.95e-7 seconds\n",
        "elapsed time: 9.46e-7 seconds\n",
        "elapsed time: 2.163e-6 seconds\n",
        "elapsed time: 9.61e-7 seconds\n",
        "elapsed time: 1.014e-6 seconds\n",
        "elapsed time: 1.466e-6 seconds\n",
        "elapsed time: 1.074e-6 seconds\n",
        "elapsed time: 1.018e-6 seconds\n",
        "elapsed time: 9.69e-7 seconds\n",
        "elapsed time: 9.38e-7 seconds\n",
        "elapsed time: 9.27e-7 seconds\n",
        "elapsed time: 9.65e-7 seconds\n",
        "elapsed time: 1.286e-6 seconds\n",
        "elapsed time: 9.54e-7 seconds\n",
        "elapsed time: 9.35e-7 seconds\n",
        "elapsed time: 9.31e-7 seconds\n",
        "elapsed time: 9.79e-7 seconds\n",
        "elapsed time: 9.43e-7 seconds\n",
        "elapsed time: 1.418e-6 seconds\n",
        "elapsed time: 9.87e-7 seconds\n",
        "elapsed time: 9.54e-7 seconds\n",
        "elapsed time: 9.58e-7 seconds\n",
        "elapsed time: 9.95e-7 seconds\n",
        "elapsed time: 9.76e-7 seconds\n",
        "elapsed time: 1.022e-6 seconds\n",
        "elapsed time: 1.04e-6 seconds\n",
        "elapsed time: 9.38e-7 seconds\n",
        "elapsed time: 9.27e-7 seconds\n",
        "elapsed time: 9.16e-7 seconds\n",
        "elapsed time: 9.68e-7 seconds\n",
        "elapsed time: 9.53e-7 seconds\n",
        "elapsed time: 9.05e-7 seconds\n",
        "elapsed time: 9.27e-7 seconds\n",
        "elapsed time: 9.65e-7 seconds\n",
        "elapsed time: 9.69e-7 seconds\n",
        "elapsed time: 9.76e-7 seconds\n",
        "elapsed time: 9.61e-7 seconds\n",
        "elapsed time: 9.69e-7 seconds\n",
        "elapsed time: 9.73e-7 seconds\n",
        "elapsed time: 9.72e-7 seconds\n",
        "elapsed time: 1.033e-6 seconds\n",
        "elapsed time: 9.35e-7 seconds\n",
        "elapsed time: 9.39e-7 seconds\n",
        "elapsed time: 9.31e-7 seconds\n",
        "elapsed time: 1.051e-6 seconds\n",
        "elapsed time: 1.18e-6 seconds\n",
        "elapsed time: 9.68e-7 seconds\n",
        "elapsed time: 9.28e-7 seconds\n",
        "elapsed time: 9.61e-7 seconds\n",
        "elapsed time: 9.38e-7 seconds\n",
        "elapsed time: 9.91e-7 seconds\n",
        "elapsed time: 9.76e-7 seconds\n",
        "elapsed time: 1.028e-6 seconds\n",
        "elapsed time: 9.99e-7 seconds\n",
        "elapsed time: 9.31e-7 seconds\n",
        "elapsed time: 9.84e-7 seconds\n",
        "elapsed time: 9.27e-7 seconds\n",
        "elapsed time: 1.059e-6 seconds\n",
        "elapsed time: 9.39e-7 seconds\n",
        "elapsed time: 9.46e-7 seconds\n",
        "elapsed time: 9.38e-7 seconds\n",
        "elapsed time: 1.033e-6 seconds\n",
        "elapsed time: 1.217e-6 seconds\n",
        "elapsed time: 9.53e-7 seconds\n",
        "elapsed time: 9.72e-7 seconds\n",
        "elapsed time: 9.42e-7 seconds\n",
        "elapsed time: 9.35e-7 seconds\n",
        "elapsed time: 9.38e-7 seconds\n",
        "elapsed time: 9.27e-7 seconds\n",
        "elapsed time: 9.2e-7 seconds\n",
        "elapsed time: 9.54e-7 seconds\n",
        "elapsed time: 9.35e-7 seconds\n",
        "elapsed time: 9.46e-7 seconds\n",
        "elapsed time: 9.88e-7 seconds\n",
        "elapsed time: 1.021e-6 seconds\n",
        "elapsed time: 9.76e-7 seconds\n",
        "elapsed time: 9.09e-7 seconds\n",
        "elapsed time: 9.54e-7 seconds\n",
        "elapsed time: 1.817e-6 seconds\n",
        "elapsed time: 9.46e-7 seconds\n",
        "elapsed time: 9.57e-7 seconds\n",
        "elapsed time: 9.61e-7 seconds\n",
        "elapsed time: 9.54e-7 seconds\n",
        "elapsed time: 9.35e-7 seconds\n",
        "elapsed time: 9.5e-7 seconds\n",
        "elapsed time: 1.311e-6 seconds\n",
        "elapsed time: 1.006e-6 seconds\n",
        "elapsed time: 1.139e-6 seconds\n",
        "elapsed time: 9.57e-7 seconds\n",
        "elapsed time: 9.87e-7 seconds\n",
        "elapsed time: 1.184e-6 seconds\n",
        "elapsed time: 1.127e-6 seconds\n",
        "elapsed time: 1.04e-6 seconds\n",
        "elapsed time: 1.074e-6 seconds\n",
        "elapsed time: 9.42e-7 seconds\n",
        "elapsed time: 1.063e-6 seconds\n",
        "elapsed time: 1.033e-6 seconds\n",
        "elapsed time: 1.033e-6 seconds\n",
        "elapsed time: 9.8e-7 seconds\n",
        "elapsed time: 1.04e-6 seconds\n",
        "elapsed time: 9.24e-7 seconds\n",
        "elapsed time: 9.31e-7 seconds\n",
        "elapsed time: 9.45e-7 seconds\n",
        "elapsed time: 1.025e-6 seconds\n",
        "elapsed time: 1.033e-6 seconds\n",
        "elapsed time: 1.085e-6 seconds\n",
        "elapsed time: 1.018e-6 seconds\n",
        "elapsed time: 9.15e-7 seconds\n",
        "elapsed time: 2.698e-6 seconds\n",
        "elapsed time: 1.014e-6 seconds\n",
        "elapsed time: 9.65e-7 seconds\n",
        "elapsed time: 9.53e-7 seconds\n",
        "elapsed time: 9.49e-7 seconds\n",
        "elapsed time: 9.69e-7 seconds\n",
        "elapsed time: 9.54e-7 seconds\n",
        "elapsed time: 9.61e-7 seconds\n",
        "elapsed time: 9.91e-7 seconds\n",
        "elapsed time: 9.72e-7 seconds\n",
        "elapsed time: 9.53e-7 seconds\n",
        "elapsed time: 1.007e-6 seconds\n",
        "elapsed time: 9.95e-7 seconds\n",
        "elapsed time: 9.23e-7 seconds\n",
        "elapsed time: 1.048e-6 seconds\n",
        "elapsed time: 9.5e-7 seconds\n",
        "elapsed time: 9.42e-7 seconds\n",
        "elapsed time: 9.87e-7 seconds\n",
        "elapsed time: 9.84e-7 seconds\n",
        "elapsed time: 9.73e-7 seconds\n",
        "elapsed time: 9.95e-7 seconds\n",
        "elapsed time: 9.8e-7 seconds\n",
        "elapsed time: 9.72e-7 seconds\n",
        "elapsed time: 9.61e-7 seconds\n",
        "elapsed time: 9.61e-7 seconds\n",
        "elapsed time: 9.73e-7 seconds\n",
        "elapsed time: 9.61e-7 seconds\n",
        "elapsed time: 9.76e-7 seconds\n",
        "elapsed time: 9.69e-7 seconds\n",
        "elapsed time: 9.57e-7 seconds\n",
        "elapsed time: 9.83e-7 seconds\n",
        "elapsed time: 9.76e-7 seconds\n",
        "elapsed time: 9.61e-7 seconds\n",
        "elapsed time: 9.38e-7 seconds\n",
        "elapsed time: 9.61e-7 seconds\n",
        "elapsed time: 9.31e-7 seconds\n",
        "elapsed time: 9.76e-7 seconds\n",
        "elapsed time: 9.99e-7 seconds\n",
        "elapsed time: 1.006e-6 seconds\n",
        "elapsed time: 9.57e-7 seconds\n",
        "elapsed time: 9.87e-7 seconds\n",
        "elapsed time: 9.65e-7 seconds\n",
        "elapsed time: 9.5e-7 seconds\n",
        "elapsed time: 9.65e-7 seconds\n",
        "elapsed time: 9.65e-7 seconds\n",
        "elapsed time: 9.16e-7 seconds\n",
        "elapsed time: 9.31e-7 seconds\n",
        "elapsed time: 1.025e-6 seconds\n",
        "elapsed time: 9.72e-7 seconds\n",
        "elapsed time: 9.61e-7 seconds\n",
        "elapsed time: 9.42e-7 seconds\n",
        "elapsed time: 9.76e-7 seconds\n",
        "elapsed time: 9.68e-7 seconds\n",
        "elapsed time: 9.47e-7 seconds\n",
        "elapsed time: 1.018e-6 seconds\n",
        "elapsed time: 9.5e-7 seconds\n",
        "elapsed time: 9.6e-7 seconds\n",
        "elapsed time: 9.72e-7 seconds\n",
        "elapsed time: 9.58e-7 seconds\n",
        "elapsed time: 9.35e-7 seconds\n",
        "elapsed time: 1.768e-6 seconds\n",
        "elapsed time: 9.46e-7 seconds\n",
        "elapsed time: 1.052e-6 seconds\n",
        "elapsed time: 9.72e-7 seconds\n",
        "elapsed time: 9.87e-7 seconds\n",
        "elapsed time: 9.95e-7 seconds\n",
        "elapsed time: 9.76e-7 seconds\n",
        "elapsed time: 9.88e-7 seconds\n",
        "elapsed time: 9.68e-7 seconds\n",
        "elapsed time: 9.61e-7 seconds\n",
        "elapsed time: 1.3e-6 seconds\n",
        "elapsed time: 9.76e-7 seconds\n",
        "elapsed time: 9.99e-7 seconds\n",
        "elapsed time: 9.54e-7 seconds\n",
        "elapsed time: 9.49e-7 seconds\n",
        "elapsed time: 1.289e-6 seconds\n",
        "elapsed time: 9.84e-7 seconds\n",
        "elapsed time: 9.88e-7 seconds\n",
        "elapsed time: 9.61e-7 seconds\n",
        "elapsed time: 9.8e-7 seconds\n",
        "elapsed time: 9.61e-7 seconds\n",
        "elapsed time: 9.69e-7 seconds\n",
        "elapsed time: 1.014e-6 seconds\n",
        "elapsed time: 1.044e-6 seconds\n",
        "elapsed time: 1.085e-6 seconds\n",
        "elapsed time: 9.95e-7 seconds\n",
        "elapsed time: 9.46e-7 seconds\n",
        "elapsed time: 9.95e-7 seconds\n",
        "elapsed time: 9.31e-7 seconds\n",
        "elapsed time: 9.6e-7 seconds\n",
        "elapsed time: 9.38e-7 seconds\n",
        "elapsed time: 9.76e-7 seconds\n",
        "elapsed time: 9.69e-7 seconds\n",
        "elapsed time: 9.58e-7 seconds\n",
        "elapsed time: 9.19e-7 seconds\n",
        "elapsed time: 1.077e-6 seconds\n",
        "elapsed time: 9.23e-7 seconds\n",
        "elapsed time: 1.067e-6 seconds\n",
        "elapsed time: 9.42e-7 seconds\n",
        "elapsed time: 9.68e-7 seconds\n",
        "elapsed time: 1.044e-6 seconds\n",
        "elapsed time: 1.587e-6 seconds\n",
        "elapsed time: 2.514e-6 seconds\n",
        "elapsed time: 1.338e-6 seconds\n",
        "elapsed time: 9.5e-7 seconds\n",
        "elapsed time: 9.54e-7 seconds\n",
        "elapsed time: 1.413e-6 seconds\n",
        "elapsed time: 1.04e-6 seconds\n",
        "elapsed time: 9.84e-7 seconds\n",
        "elapsed time: 9.65e-7 seconds\n",
        "elapsed time: 1.056e-6 seconds\n",
        "elapsed time: 9.49e-7 seconds\n",
        "elapsed time: 9.5e-7 seconds\n",
        "elapsed time: 9.38e-7 seconds\n",
        "elapsed time: 9.42e-7 seconds\n",
        "elapsed time: 9.58e-7 seconds\n",
        "elapsed time: 1.066e-6 seconds\n",
        "elapsed time: 9.54e-7 seconds\n",
        "elapsed time: 1.036e-6 seconds\n",
        "elapsed time: 9.39e-7 seconds\n",
        "elapsed time: 9.16e-7 seconds\n",
        "elapsed time: 9.42e-7 seconds\n",
        "elapsed time: 1.319e-6 seconds\n",
        "elapsed time: 9.49e-7 seconds\n",
        "elapsed time: 1.014e-6 seconds\n",
        "elapsed time: 9.46e-7 seconds\n",
        "elapsed time: 9.72e-7 seconds\n",
        "elapsed time: 9.62e-7 seconds\n",
        "elapsed time: 9.53e-7 seconds\n",
        "elapsed time: 9.46e-7 seconds\n",
        "elapsed time: 9.57e-7 seconds\n",
        "elapsed time: 9.6e-7 seconds\n",
        "elapsed time: 9.53e-7 seconds\n",
        "elapsed time: 9.28e-7 seconds\n",
        "elapsed time: 9.31e-7 seconds\n",
        "elapsed time: 9.57e-7 seconds\n",
        "elapsed time: 9.49e-7 seconds\n",
        "elapsed time: 9.08e-7 seconds\n",
        "elapsed time: 9.76e-7 seconds\n",
        "elapsed time: 9.39e-7 seconds\n",
        "elapsed time: 1.006e-6 seconds\n",
        "elapsed time: 9.31e-7 seconds\n",
        "elapsed time: 9.58e-7 seconds\n",
        "elapsed time: 9.76e-7 seconds\n",
        "elapsed time: 9.31e-7 seconds\n",
        "elapsed time: 1.01e-6 seconds\n",
        "elapsed time: 9.58e-7 seconds\n",
        "elapsed time: 9.3e-7 seconds\n",
        "elapsed time: 1.007e-6 seconds\n",
        "elapsed time: 9.95e-7 seconds\n",
        "elapsed time: 9.46e-7 seconds\n",
        "elapsed time: 9.57e-7 seconds\n",
        "elapsed time: 9.27e-7 seconds\n",
        "elapsed time: 9.5e-7 seconds\n",
        "elapsed time: 1.051e-6 seconds\n",
        "elapsed time: 9.5e-7 seconds\n",
        "elapsed time: 9.54e-7 seconds\n",
        "elapsed time: 9.49e-7 seconds\n",
        "elapsed time: 9.27e-7 seconds\n",
        "elapsed time: 9.16e-7 seconds\n",
        "elapsed time: 1.014e-6 seconds\n",
        "elapsed time: 9.24e-7 seconds\n",
        "elapsed time: 9.31e-7 seconds\n",
        "elapsed time: 9.42e-7 seconds\n",
        "elapsed time: 9.91e-7 seconds\n",
        "elapsed time: 9.65e-7 seconds\n",
        "elapsed time: 9.46e-7 seconds\n",
        "elapsed time: 9.5e-7 seconds\n",
        "elapsed time: 9.31e-7 seconds\n",
        "elapsed time: 1.003e-6 seconds\n",
        "elapsed time: 9.8e-7 seconds\n",
        "elapsed time: 9.13e-7 seconds\n",
        "elapsed time: 9.5e-7 seconds\n",
        "elapsed time: 9.58e-7 seconds\n",
        "elapsed time: 3.219e-6 seconds\n",
        "elapsed time: 1.289e-6 seconds\n",
        "elapsed time: 9.76e-7 seconds\n",
        "elapsed time: 1.029e-6 seconds\n",
        "elapsed time: 9.87e-7 seconds\n",
        "elapsed time: 9.31e-7 seconds\n",
        "elapsed time: 1.006e-6 seconds\n",
        "elapsed time: 1.014e-6 seconds\n",
        "elapsed time: 9.39e-7 seconds\n",
        "elapsed time: 1.56e-6 seconds\n",
        "elapsed time: 1.112e-6 seconds\n",
        "elapsed time: 9.8e-7 seconds\n",
        "elapsed time: 9.42e-7 seconds\n",
        "elapsed time: 1.01e-6 seconds\n",
        "elapsed time: 1.025e-6 seconds\n",
        "elapsed time: 9.69e-7 seconds\n",
        "elapsed time: 9.98e-7 seconds\n",
        "elapsed time: 9.61e-7 seconds\n",
        "elapsed time: 9.76e-7 seconds\n",
        "elapsed time: 1.063e-6 seconds\n",
        "elapsed time: 9.27e-7 seconds\n",
        "elapsed time: 9.2e-7 seconds\n",
        "elapsed time: 9.38e-7 seconds\n",
        "elapsed time: 9.19e-7 seconds\n",
        "elapsed time: 9.49e-7 seconds\n",
        "elapsed time: 9.54e-7 seconds\n",
        "elapsed time: 9.31e-7 seconds\n",
        "elapsed time: 9.87e-7 seconds\n",
        "elapsed time: 9.27e-7 seconds\n",
        "elapsed time: 2.152e-6 seconds\n",
        "elapsed time: 1.036e-6 seconds\n",
        "elapsed time: 1.01e-6 seconds\n",
        "elapsed time: 1.367e-6 seconds\n",
        "elapsed time: 1.018e-6 seconds\n",
        "elapsed time: 1.04e-6 seconds\n",
        "elapsed time: 9.46e-7 seconds\n",
        "elapsed time: 9.49e-7 seconds\n",
        "elapsed time: 9.45e-7 seconds\n",
        "elapsed time: 9.92e-7 seconds\n",
        "elapsed time: 5.356e-6 seconds\n",
        "elapsed time: 9.91e-7 seconds\n",
        "elapsed time: 9.5e-7 seconds\n",
        "elapsed time: 9.45e-7 seconds\n",
        "elapsed time: 9.57e-7 seconds\n",
        "elapsed time: 9.61e-7 seconds\n",
        "elapsed time: 9.98e-7 seconds\n",
        "elapsed time: 1.048e-6 seconds\n",
        "elapsed time: 9.87e-7 seconds\n",
        "elapsed time: 9.35e-7 seconds\n",
        "elapsed time: 9.61e-7 seconds\n",
        "elapsed time: 9.72e-7 seconds\n",
        "elapsed time: 9.46e-7 seconds\n",
        "elapsed time: 1.051e-6 seconds\n",
        "elapsed time: 9.57e-7 seconds\n",
        "elapsed time: 1.044e-6 seconds\n",
        "elapsed time: 9.42e-7 seconds\n",
        "elapsed time: 5.005e-6 seconds\n",
        "elapsed time: 1.029e-6 seconds\n",
        "elapsed time: 1.093e-6 seconds\n",
        "elapsed time: 9.99e-7 seconds\n",
        "elapsed time: 9.3e-7 seconds\n",
        "elapsed time: 9.49e-7 seconds\n",
        "elapsed time: 1.002e-6 seconds\n",
        "elapsed time: 9.31e-7 seconds\n",
        "elapsed time: 9.5e-7 seconds\n",
        "elapsed time: 9.31e-7 seconds\n",
        "elapsed time: 9.49e-7 seconds\n",
        "elapsed time: 9.39e-7 seconds\n",
        "elapsed time: 9.27e-7 seconds\n",
        "elapsed time: 9.69e-7 seconds\n",
        "elapsed time: 9.64e-7 seconds\n",
        "elapsed time: 9.42e-7 seconds\n",
        "elapsed time: 1.104e-6 seconds\n",
        "elapsed time: 9.72e-7 seconds\n",
        "elapsed time: 9.46e-7 seconds\n",
        "elapsed time: 9.83e-7 seconds\n",
        "elapsed time: 9.72e-7 seconds\n",
        "elapsed time: 9.49e-7 seconds\n",
        "elapsed time: 9.72e-7 seconds\n",
        "elapsed time: 9.8e-7 seconds\n",
        "elapsed time: 9.24e-7 seconds\n",
        "elapsed time: 9.2e-7 seconds\n",
        "elapsed time: 9.39e-7 seconds\n",
        "elapsed time: 9.99e-7 seconds\n",
        "elapsed time: 9.42e-7 seconds\n",
        "elapsed time: 9.84e-7 seconds\n",
        "elapsed time: 9.65e-7 seconds\n",
        "elapsed time: 9.8e-7 seconds\n",
        "elapsed time: 9.53e-7 seconds\n",
        "elapsed time: 9.31e-7 seconds\n",
        "elapsed time: 1.01e-6 seconds\n",
        "elapsed time: 9.83e-7 seconds\n",
        "elapsed time: 6.46e-6 seconds\n",
        "elapsed time: 1.085e-6 seconds\n",
        "elapsed time: 1.006e-6 seconds\n",
        "elapsed time: 9.42e-7 seconds\n",
        "elapsed time: 1.033e-6 seconds\n",
        "elapsed time: 9.5e-7 seconds\n",
        "elapsed time: 9.54e-7 seconds\n",
        "elapsed time: 9.73e-7 seconds\n",
        "elapsed time: 1.123e-6 seconds\n",
        "elapsed time: 9.73e-7 seconds\n",
        "elapsed time: 1.108e-6 seconds\n",
        "elapsed time: 9.38e-7 seconds\n",
        "elapsed time: 9.95e-7 seconds\n",
        "elapsed time: 1.002e-6 seconds\n",
        "elapsed time: 9.31e-7 seconds\n",
        "elapsed time: 9.23e-7 seconds\n",
        "elapsed time: 9.27e-7 seconds\n",
        "elapsed time: 9.43e-7 seconds\n",
        "elapsed time: 1.489e-6 seconds\n",
        "elapsed time: 9.87e-7 seconds\n",
        "elapsed time: 9.72e-7 seconds\n",
        "elapsed time: 9.58e-7 seconds\n",
        "elapsed time: 9.5e-7 seconds\n",
        "elapsed time: 1.021e-6 seconds\n",
        "elapsed time: 9.27e-7 seconds\n",
        "elapsed time: 9.83e-7 seconds\n",
        "elapsed time: 9.8e-7 seconds\n",
        "elapsed time: 9.64e-7 seconds\n",
        "elapsed time: 1.029e-6 seconds\n",
        "elapsed time: 9.54e-7 seconds\n",
        "elapsed time: 9.8e-7 seconds\n",
        "elapsed time: 9.69e-7 seconds\n",
        "elapsed time: 9.92e-7 seconds\n",
        "elapsed time: 9.61e-7 seconds\n",
        "elapsed time: 1.014e-6 seconds\n",
        "elapsed time: 9.58e-7 seconds\n",
        "elapsed time: 9.23e-7 seconds\n",
        "elapsed time: 6.14e-6 seconds\n",
        "elapsed time: 1.071e-6 seconds\n",
        "elapsed time: 9.83e-7 seconds\n",
        "elapsed time: 9.68e-7 seconds\n",
        "elapsed time: 1.01e-6 seconds\n",
        "elapsed time: 1.01e-6 seconds\n",
        "elapsed time: 9.88e-7 seconds\n",
        "elapsed time: 1.033e-6 seconds\n",
        "elapsed time: 1.043e-6 seconds\n",
        "elapsed time: 9.88e-7 seconds\n",
        "elapsed time: 9.68e-7 seconds\n",
        "elapsed time: 9.54e-7 seconds\n",
        "elapsed time: 9.53e-7 seconds\n",
        "elapsed time: 1.089e-6 seconds\n",
        "elapsed time: 9.54e-7 seconds\n",
        "elapsed time: 9.95e-7 seconds\n",
        "elapsed time: 9.45e-7 seconds\n",
        "elapsed time: 1.093e-6 seconds\n",
        "elapsed time: 1.04e-6 seconds\n",
        "elapsed time: 1.025e-6 seconds\n",
        "elapsed time: 9.39e-7 seconds\n",
        "elapsed time: 9.87e-7 seconds\n",
        "elapsed time: 9.69e-7 seconds\n",
        "elapsed time: 1.01e-6 seconds\n",
        "elapsed time: 1.007e-6 seconds\n",
        "elapsed time: 1.1e-6 seconds\n",
        "elapsed time: 1.093e-6 seconds\n",
        "elapsed time: 1.014e-6 seconds\n",
        "elapsed time: 1.007e-6 seconds\n",
        "elapsed time: 1.108e-6 seconds\n",
        "elapsed time: 1.006e-6 seconds\n",
        "elapsed time: 9.73e-7 seconds\n",
        "elapsed time: 9.99e-7 seconds\n",
        "elapsed time: 9.76e-7 seconds\n",
        "elapsed time: 9.99e-7 seconds\n",
        "elapsed time: 9.65e-7 seconds\n",
        "elapsed time: 1.742e-6 seconds\n",
        "elapsed time: 1.021e-6 seconds\n",
        "elapsed time: 9.5e-7 seconds\n",
        "elapsed time: 9.8e-7 seconds\n",
        "elapsed time: 1.044e-6 seconds\n",
        "elapsed time: 1.014e-6 seconds\n",
        "elapsed time: 9.68e-7 seconds\n",
        "elapsed time: 1.006e-6 seconds\n",
        "elapsed time: 9.69e-7 seconds\n",
        "elapsed time: 1.067e-6 seconds\n",
        "elapsed time: 9.8e-7 seconds\n",
        "elapsed time: 9.5e-7 seconds\n",
        "elapsed time: 9.57e-7 seconds\n",
        "elapsed time: 9.34e-7 seconds\n",
        "elapsed time: 9.38e-7 seconds\n",
        "elapsed time: 1.029e-6 seconds\n",
        "elapsed time: 9.65e-7 seconds\n",
        "elapsed time: 9.91e-7 seconds\n",
        "elapsed time: 9.58e-7 seconds\n",
        "elapsed time: 9.61e-7 seconds\n",
        "elapsed time: 9.87e-7 seconds\n",
        "elapsed time: 9.58e-7 seconds\n",
        "elapsed time: 9.5e-7 seconds\n",
        "elapsed time: 1.055e-6 seconds\n",
        "elapsed time: 9.72e-7 seconds\n",
        "elapsed time: 5.107e-6 seconds\n",
        "elapsed time: 1.311e-6 seconds\n",
        "elapsed time: 9.95e-7 seconds\n",
        "elapsed time: 1.115e-6 seconds\n",
        "elapsed time: 9.84e-7 seconds\n",
        "elapsed time: 9.77e-7 seconds\n",
        "elapsed time: 1.052e-6 seconds\n",
        "elapsed time: 9.91e-7 seconds\n",
        "elapsed time: 1.037e-6 seconds\n",
        "elapsed time: 9.72e-7 seconds\n",
        "elapsed time: 1.003e-6 seconds\n",
        "elapsed time: 1.124e-6 seconds\n",
        "elapsed time: 1.07e-6 seconds\n",
        "elapsed time: 1.01e-6 seconds\n",
        "elapsed time: 1.172e-6 seconds\n",
        "elapsed time: 9.72e-7 seconds\n",
        "elapsed time: 1.12e-6 seconds\n",
        "elapsed time: 1.007e-6 seconds\n",
        "elapsed time: 9.46e-7 seconds\n",
        "elapsed time: 9.64e-7 seconds\n",
        "elapsed time: 1.006e-6 seconds\n",
        "elapsed time: 1.033e-6 seconds\n",
        "elapsed time: 1.659e-6 seconds\n",
        "elapsed time: 3.822e-6 seconds\n",
        "elapsed time: 1.164e-6 seconds\n",
        "elapsed time: 1.018e-6 seconds\n",
        "elapsed time: 1.176e-6 seconds\n",
        "elapsed time: 9.62e-7 seconds\n",
        "elapsed time: 9.35e-7 seconds\n",
        "elapsed time: 9.95e-7 seconds\n",
        "elapsed time: 9.5e-7 seconds\n",
        "elapsed time: 1.089e-6 seconds\n",
        "elapsed time: 9.76e-7 seconds\n",
        "elapsed time: 9.76e-7 seconds\n",
        "elapsed time: 9.35e-7 seconds\n",
        "elapsed time: 1.018e-6 seconds\n",
        "elapsed time: 9.72e-7 seconds\n",
        "elapsed time: 9.46e-7 seconds\n",
        "elapsed time: 1.018e-6 seconds\n",
        "elapsed time: 9.38e-7 seconds\n",
        "elapsed time: 1.006e-6 seconds\n",
        "elapsed time: 9.65e-7 seconds\n",
        "elapsed time: 9.46e-7 seconds\n",
        "elapsed time: 9.95e-7 seconds\n",
        "elapsed time: 1.104e-6 seconds\n",
        "elapsed time: 9.5e-7 seconds\n",
        "elapsed time: 9.95e-7 seconds\n",
        "elapsed time: 1.002e-6 seconds\n",
        "elapsed time: 9.8e-7 seconds\n",
        "elapsed time: 9.83e-7 seconds\n",
        "elapsed time: 9.57e-7 seconds\n",
        "elapsed time: 9.31e-7 seconds\n",
        "elapsed time: 1.598e-6 seconds\n",
        "elapsed time: 9.88e-7 seconds\n",
        "elapsed time: 9.73e-7 seconds\n",
        "elapsed time: 9.76e-7 seconds\n",
        "elapsed time: 9.73e-7 seconds\n",
        "elapsed time: 9.65e-7 seconds\n",
        "elapsed time: 9.76e-7 seconds\n",
        "elapsed time: 9.68e-7 seconds\n",
        "elapsed time: 9.61e-7 seconds\n",
        "elapsed time: 9.69e-7 seconds\n",
        "elapsed time: 9.57e-7 seconds\n",
        "elapsed time: 9.53e-7 seconds\n",
        "elapsed time: 9.84e-7 seconds\n",
        "elapsed time: 9.76e-7 seconds\n",
        "elapsed time: 1.014e-6 seconds\n",
        "elapsed time: 9.68e-7 seconds\n",
        "elapsed time: 9.39e-7 seconds\n",
        "elapsed time: 1.289e-6 seconds\n",
        "elapsed time: 9.76e-7 seconds\n",
        "elapsed time: 9.76e-7 seconds\n",
        "elapsed time: 9.8e-7 seconds\n",
        "elapsed time: 9.72e-7 seconds\n",
        "elapsed time: 9.53e-7 seconds\n",
        "elapsed time: 9.53e-7 seconds\n",
        "elapsed time: 9.94e-7 seconds\n",
        "elapsed time: 1.01e-6 seconds\n",
        "elapsed time: 9.87e-7 seconds\n",
        "elapsed time: 9.53e-7 seconds\n",
        "elapsed time: 2.16e-6 seconds\n",
        "elapsed time: 9.69e-7 seconds\n",
        "elapsed time: 9.61e-7 seconds\n",
        "elapsed time: 1.007e-6 seconds\n",
        "elapsed time: 9.72e-7 seconds\n",
        "elapsed time: 9.65e-7 seconds\n",
        "elapsed time: 1.089e-6 seconds\n",
        "elapsed time: 1.017e-6 seconds\n",
        "elapsed time: 1.063e-6 seconds\n",
        "elapsed time: 9.61e-7 seconds\n",
        "elapsed time: 1.047e-6 seconds\n",
        "elapsed time: 9.57e-7 seconds\n",
        "elapsed time: 9.76e-7 seconds\n",
        "elapsed time: 9.72e-7 seconds\n",
        "elapsed time: 9.57e-7 seconds\n",
        "elapsed time: 9.57e-7 seconds\n",
        "elapsed time: 9.8e-7 seconds\n",
        "elapsed time: 9.68e-7 seconds\n",
        "elapsed time: 9.99e-7 seconds\n",
        "elapsed time: 9.87e-7 seconds\n",
        "elapsed time: 9.61e-7 seconds\n",
        "elapsed time: 9.61e-7 seconds\n",
        "elapsed time: 9.5e-7 seconds\n",
        "elapsed time: 9.53e-7 seconds\n",
        "elapsed time: 9.69e-7 seconds\n",
        "elapsed time: 9.72e-7 seconds\n",
        "elapsed time: 9.53e-7 seconds\n",
        "elapsed time: 9.76e-7 seconds\n",
        "elapsed time: 9.64e-7 seconds\n",
        "elapsed time: 9.39e-7 seconds\n",
        "elapsed time: 9.76e-7 seconds\n",
        "elapsed time: 9.31e-7 seconds\n",
        "elapsed time: 9.68e-7 seconds\n",
        "elapsed time: 9.49e-7 seconds\n",
        "elapsed time: 9.49e-7 seconds\n",
        "elapsed time: 9.62e-7 seconds\n",
        "elapsed time: 9.42e-7 seconds\n",
        "elapsed time: 9.53e-7 seconds\n",
        "elapsed time: 9.58e-7 seconds\n",
        "elapsed time: 1.01e-6 seconds\n"
       ]
      },
      {
       "metadata": {},
       "output_type": "pyout",
       "prompt_number": 105,
       "text": [
        "1.095901999999999e-6"
       ]
      }
     ],
     "prompt_number": 105
    },
    {
     "cell_type": "code",
     "collapsed": false,
     "input": [
      "ttime"
     ],
     "language": "python",
     "metadata": {},
     "outputs": [
      {
       "metadata": {},
       "output_type": "pyout",
       "prompt_number": 82,
       "text": [
        "0.000547082"
       ]
      }
     ],
     "prompt_number": 82
    },
    {
     "cell_type": "heading",
     "level": 2,
     "metadata": {},
     "source": [
      "Control de flujo"
     ]
    },
    {
     "cell_type": "markdown",
     "metadata": {},
     "source": [
      "Tambi\u00e9n se pueden definir variables con una sint\u00e1xis parecida a la de las funciones"
     ]
    },
    {
     "cell_type": "code",
     "collapsed": false,
     "input": [
      "a = begin\n",
      "        d = 3*4\n",
      "        d = 2d +1\n",
      "        d\n",
      "    end"
     ],
     "language": "python",
     "metadata": {},
     "outputs": [
      {
       "metadata": {},
       "output_type": "pyout",
       "prompt_number": 66,
       "text": [
        "25"
       ]
      }
     ],
     "prompt_number": 66
    },
    {
     "cell_type": "code",
     "collapsed": false,
     "input": [
      "a"
     ],
     "language": "python",
     "metadata": {},
     "outputs": [
      {
       "metadata": {},
       "output_type": "pyout",
       "prompt_number": 67,
       "text": [
        "25"
       ]
      }
     ],
     "prompt_number": 67
    },
    {
     "cell_type": "heading",
     "level": 3,
     "metadata": {},
     "source": [
      "If"
     ]
    },
    {
     "cell_type": "code",
     "collapsed": false,
     "input": [
      "a = 3\n",
      "if a < 5\n",
      "    print(\"$a es menor que 5\")\n",
      "end"
     ],
     "language": "python",
     "metadata": {},
     "outputs": [
      {
       "output_type": "stream",
       "stream": "stdout",
       "text": [
        "3 es menor que 5"
       ]
      }
     ],
     "prompt_number": 68
    },
    {
     "cell_type": "code",
     "collapsed": false,
     "input": [
      "a = 5\n",
      "\n",
      "if a < 5\n",
      "    print(\"$a es menor que 5\")\n",
      "elseif a > 5\n",
      "    print(\"$a es mayor que 5\")\n",
      "else a == 5\n",
      "    print(\"a es igual a 5\")\n",
      "end"
     ],
     "language": "python",
     "metadata": {},
     "outputs": [
      {
       "output_type": "stream",
       "stream": "stdout",
       "text": [
        "a es igual a 5"
       ]
      }
     ],
     "prompt_number": 69
    },
    {
     "cell_type": "code",
     "collapsed": false,
     "input": [
      "a = 3\n",
      "\n",
      "if a < 5 | a >5\n",
      "    print(\"a es distinto de 5\")\n",
      "end"
     ],
     "language": "python",
     "metadata": {},
     "outputs": [
      {
       "output_type": "stream",
       "stream": "stdout",
       "text": [
        "a es distinto de 5"
       ]
      }
     ],
     "prompt_number": 70
    },
    {
     "cell_type": "heading",
     "level": 3,
     "metadata": {},
     "source": [
      "for"
     ]
    },
    {
     "cell_type": "code",
     "collapsed": false,
     "input": [
      "for i = 1:3\n",
      "    print(i)\n",
      "end"
     ],
     "language": "python",
     "metadata": {},
     "outputs": [
      {
       "output_type": "stream",
       "stream": "stdout",
       "text": [
        "12"
       ]
      },
      {
       "output_type": "stream",
       "stream": "stdout",
       "text": [
        "3"
       ]
      }
     ],
     "prompt_number": 71
    },
    {
     "cell_type": "code",
     "collapsed": false,
     "input": [
      "for i = 1:6\n",
      "    print(i, \"\\n\")\n",
      "end"
     ],
     "language": "python",
     "metadata": {},
     "outputs": [
      {
       "output_type": "stream",
       "stream": "stdout",
       "text": [
        "1\n"
       ]
      },
      {
       "output_type": "stream",
       "stream": "stdout",
       "text": [
        "2\n",
        "3\n",
        "4\n",
        "5\n",
        "6\n"
       ]
      }
     ],
     "prompt_number": 72
    },
    {
     "cell_type": "code",
     "collapsed": false,
     "input": [
      "arreglo = [1,2,3,4,5,6]\n",
      "\n",
      "for i in arreglo\n",
      "\n",
      "    println(3i)\n",
      "    \n",
      "end"
     ],
     "language": "python",
     "metadata": {},
     "outputs": [
      {
       "output_type": "stream",
       "stream": "stdout",
       "text": [
        "3\n"
       ]
      },
      {
       "output_type": "stream",
       "stream": "stdout",
       "text": [
        "6\n",
        "9\n",
        "12\n",
        "15\n",
        "18\n"
       ]
      }
     ],
     "prompt_number": 73
    },
    {
     "cell_type": "heading",
     "level": 3,
     "metadata": {},
     "source": [
      "while"
     ]
    },
    {
     "cell_type": "code",
     "collapsed": false,
     "input": [
      "i = 1\n",
      "\n",
      "while i <= 10 \n",
      "\n",
      "    println(i)\n",
      "    i += 1\n",
      "    \n",
      "end"
     ],
     "language": "python",
     "metadata": {},
     "outputs": [
      {
       "output_type": "stream",
       "stream": "stdout",
       "text": [
        "1\n"
       ]
      },
      {
       "output_type": "stream",
       "stream": "stdout",
       "text": [
        "2\n",
        "3\n",
        "4\n",
        "5\n",
        "6\n",
        "7\n",
        "8\n",
        "9\n",
        "10\n"
       ]
      }
     ],
     "prompt_number": 74
    },
    {
     "cell_type": "heading",
     "level": 2,
     "metadata": {},
     "source": [
      "Objetos (Tipos)"
     ]
    },
    {
     "cell_type": "markdown",
     "metadata": {},
     "source": [
      "Para definir objetos la sintaxis es la siguiente:"
     ]
    },
    {
     "cell_type": "code",
     "collapsed": false,
     "input": [
      "type MiObjeto\n",
      "    x\n",
      "end"
     ],
     "language": "python",
     "metadata": {},
     "outputs": [],
     "prompt_number": 84
    },
    {
     "cell_type": "code",
     "collapsed": false,
     "input": [
      "a = MiObjeto(3)"
     ],
     "language": "python",
     "metadata": {},
     "outputs": [
      {
       "metadata": {},
       "output_type": "pyout",
       "prompt_number": 85,
       "text": [
        "MiObjeto(3)"
       ]
      }
     ],
     "prompt_number": 85
    },
    {
     "cell_type": "code",
     "collapsed": false,
     "input": [
      "a.x"
     ],
     "language": "python",
     "metadata": {},
     "outputs": [
      {
       "metadata": {},
       "output_type": "pyout",
       "prompt_number": 86,
       "text": [
        "3"
       ]
      }
     ],
     "prompt_number": 86
    },
    {
     "cell_type": "markdown",
     "metadata": {},
     "source": [
      "No se necesita definir expl\u00edctamente un constructor (a esto le llaman constructores externos)"
     ]
    },
    {
     "cell_type": "code",
     "collapsed": false,
     "input": [
      "type Punto\n",
      "    x\n",
      "    y\n",
      "end"
     ],
     "language": "python",
     "metadata": {},
     "outputs": [],
     "prompt_number": 87
    },
    {
     "cell_type": "code",
     "collapsed": false,
     "input": [
      "origen = Punto(0,0)"
     ],
     "language": "python",
     "metadata": {},
     "outputs": [
      {
       "metadata": {},
       "output_type": "pyout",
       "prompt_number": 91,
       "text": [
        "Punto(0,0)"
       ]
      }
     ],
     "prompt_number": 91
    },
    {
     "cell_type": "code",
     "collapsed": false,
     "input": [
      "origen"
     ],
     "language": "python",
     "metadata": {},
     "outputs": [
      {
       "metadata": {},
       "output_type": "pyout",
       "prompt_number": 92,
       "text": [
        "Punto(0,0)"
       ]
      }
     ],
     "prompt_number": 92
    },
    {
     "cell_type": "code",
     "collapsed": false,
     "input": [
      "origen.x "
     ],
     "language": "python",
     "metadata": {},
     "outputs": [
      {
       "metadata": {},
       "output_type": "pyout",
       "prompt_number": 93,
       "text": [
        "0"
       ]
      }
     ],
     "prompt_number": 93
    },
    {
     "cell_type": "code",
     "collapsed": false,
     "input": [
      "origen.y"
     ],
     "language": "python",
     "metadata": {},
     "outputs": [
      {
       "metadata": {},
       "output_type": "pyout",
       "prompt_number": 120,
       "text": [
        "0"
       ]
      }
     ],
     "prompt_number": 120
    },
    {
     "cell_type": "markdown",
     "metadata": {},
     "source": [
      "Pero tambi\u00e9n se pueden definir constructores internos:\n"
     ]
    },
    {
     "cell_type": "code",
     "collapsed": false,
     "input": [
      "type Circulo\n",
      "    x\n",
      "    y\n",
      "    radio\n",
      "    \n",
      "    Circulo(x, y, r) = new(x,y, r)\n",
      "end"
     ],
     "language": "python",
     "metadata": {},
     "outputs": [
      {
       "ename": "LoadError",
       "evalue": "invalid redefinition of constant Circulo\nat In[121]:7",
       "output_type": "pyerr",
       "traceback": [
        "invalid redefinition of constant Circulo\nat In[121]:7"
       ]
      }
     ],
     "prompt_number": 121
    },
    {
     "cell_type": "code",
     "collapsed": false,
     "input": [
      "c = Circulo(0,0, 1)"
     ],
     "language": "python",
     "metadata": {},
     "outputs": [
      {
       "metadata": {},
       "output_type": "pyout",
       "prompt_number": 122,
       "text": [
        "Circulo(0,0,1)"
       ]
      }
     ],
     "prompt_number": 122
    },
    {
     "cell_type": "code",
     "collapsed": false,
     "input": [
      "c.radio"
     ],
     "language": "python",
     "metadata": {},
     "outputs": [
      {
       "metadata": {},
       "output_type": "pyout",
       "prompt_number": 124,
       "text": [
        "1"
       ]
      }
     ],
     "prompt_number": 124
    },
    {
     "cell_type": "code",
     "collapsed": false,
     "input": [],
     "language": "python",
     "metadata": {},
     "outputs": []
    }
   ],
   "metadata": {}
  }
 ]
}